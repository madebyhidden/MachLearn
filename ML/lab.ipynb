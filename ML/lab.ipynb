{
 "cells": [
  {
   "cell_type": "code",
   "execution_count": 123,
   "metadata": {},
   "outputs": [],
   "source": [
    "import re\n",
    "import pandas as pd\n",
    "import matplotlib.pyplot as plt\n",
    "import seaborn as sns\n",
    "import numpy as np"
   ]
  },
  {
   "attachments": {},
   "cell_type": "markdown",
   "metadata": {},
   "source": [
    "1. Загрузите данные по вариантам в ноутбук. Загружаем данные из Excel файла"
   ]
  },
  {
   "cell_type": "code",
   "execution_count": 3,
   "metadata": {},
   "outputs": [],
   "source": [
    "df = pd.read_excel('Вариант 1.xlsx', skiprows=2, skipfooter=1)"
   ]
  },
  {
   "attachments": {},
   "cell_type": "markdown",
   "metadata": {},
   "source": [
    "2. Сделайте описательную статистику полученных данных. Получаем описательную статистику для всех количественных столбцов"
   ]
  },
  {
   "cell_type": "code",
   "execution_count": 4,
   "metadata": {},
   "outputs": [
    {
     "name": "stdout",
     "output_type": "stream",
     "text": [
      "                 №      № школы  Номер варианта  Устная часть  Первичный балл  \\\n",
      "count  3048.000000  3048.000000     3048.000000           0.0     3048.000000   \n",
      "mean   1524.500000   138.753281      340.787730           NaN       43.573491   \n",
      "std     880.026136    41.793413       39.077186           NaN        8.931816   \n",
      "min       1.000000   104.000000      101.000000           NaN        8.000000   \n",
      "25%     762.750000   126.000000      339.000000           NaN       38.000000   \n",
      "50%    1524.500000   144.000000      342.000000           NaN       45.000000   \n",
      "75%    2286.250000   148.000000      346.000000           NaN       50.000000   \n",
      "max    3048.000000  1106.000000      706.000000           NaN       58.000000   \n",
      "\n",
      "              Балл  Минимальный балл  \n",
      "count  3048.000000            3048.0  \n",
      "mean     72.769029              24.0  \n",
      "std      13.664908               0.0  \n",
      "min      20.000000              24.0  \n",
      "25%      64.000000              24.0  \n",
      "50%      72.000000              24.0  \n",
      "75%      82.000000              24.0  \n",
      "max     100.000000              24.0  \n"
     ]
    }
   ],
   "source": [
    "desc_stats = df.describe()\n",
    "print(desc_stats)"
   ]
  },
  {
   "attachments": {},
   "cell_type": "markdown",
   "metadata": {},
   "source": [
    "3. Найдите процент учащихся, выполнивших работу ниже среднего. Вычисляем среднее значение для столбца \"Балл\""
   ]
  },
  {
   "cell_type": "code",
   "execution_count": 9,
   "metadata": {},
   "outputs": [
    {
     "data": {
      "text/plain": [
       "51.28"
      ]
     },
     "execution_count": 9,
     "metadata": {},
     "output_type": "execute_result"
    }
   ],
   "source": [
    "mean_score = df['Балл'].mean()\n",
    "\n",
    "# отфильтровываем строки с баллом ниже среднего\n",
    "filtered_df = df[df['Балл'] < mean_score]\n",
    "\n",
    "# вычисляем процент отфильтрованных строк\n",
    "round(len(filtered_df) / len(df) * 100,2)"
   ]
  },
  {
   "attachments": {},
   "cell_type": "markdown",
   "metadata": {},
   "source": [
    "4. Найти процент учащихся не сдавших экзамен. Отфильтровываем строки с баллом ниже значения столбца \"Минимальный балл\""
   ]
  },
  {
   "cell_type": "code",
   "execution_count": 10,
   "metadata": {},
   "outputs": [
    {
     "data": {
      "text/plain": [
       "0.13"
      ]
     },
     "execution_count": 10,
     "metadata": {},
     "output_type": "execute_result"
    }
   ],
   "source": [
    "filtered_df = df[df['Балл'] < df['Минимальный балл']]\n",
    "\n",
    "# вычисляем процент отфильтрованных строк\n",
    "round(len(filtered_df) / len(df) * 100,2)"
   ]
  },
  {
   "attachments": {},
   "cell_type": "markdown",
   "metadata": {},
   "source": [
    "5. Постройте круговую диаграмму, показывающую распределение сдавших и не сдавших экзамен. Отфильтровываем строки с баллом ниже значения столбца \"Минимальный балл\""
   ]
  },
  {
   "cell_type": "code",
   "execution_count": 11,
   "metadata": {},
   "outputs": [
    {
     "data": {
      "image/png": "[encoded data removed]",
      "text/plain": [
       "<Figure size 432x288 with 1 Axes>"
      ]
     },
     "metadata": {},
     "output_type": "display_data"
    }
   ],
   "source": [
    "below_min_df = df[df['Балл'] < df['Минимальный балл']]\n",
    "\n",
    "# отфильтровываем строки с баллом выше или равным значению столбца \"Минимальный балл\"\n",
    "above_min_df = df[df['Балл'] >= df['Минимальный балл']]\n",
    "\n",
    "# создаем список значений для круговой диаграммы\n",
    "values = [len(below_min_df), len(above_min_df)]\n",
    "\n",
    "# создаем список меток для круговой диаграммы\n",
    "labels = ['Балл ниже Минимального балла', 'Балл выше или равен Минимальному баллу']\n",
    "\n",
    "# строим круговую диаграмму\n",
    "plt.pie(values, labels=labels, autopct='%1.1f%%')\n",
    "plt.show()"
   ]
  },
  {
   "attachments": {},
   "cell_type": "markdown",
   "metadata": {},
   "source": [
    "6. Постройте ядерную оценку плотности распределению баллов за экзамен."
   ]
  },
  {
   "cell_type": "code",
   "execution_count": 12,
   "metadata": {},
   "outputs": [
    {
     "data": {
      "image/png": "[encoded data removed]",
      "text/plain": [
       "<Figure size 432x288 with 1 Axes>"
      ]
     },
     "metadata": {
      "needs_background": "light"
     },
     "output_type": "display_data"
    }
   ],
   "source": [
    "sns.kdeplot(df['Балл'])\n",
    "plt.show()"
   ]
  },
  {
   "cell_type": "code",
   "execution_count": 13,
   "metadata": {},
   "outputs": [
    {
     "name": "stdout",
     "output_type": "stream",
     "text": [
      "Балл ниже минимального балла: 0.13% (неудовлетворительно)\n",
      "Балл от 24 до 70: 38.98% (удовлетворительно)\n",
      "Балл от 71 до 90: 46.39% (хорошо)\n",
      "Балл от 91 до 100: 10.76% (отлично)\n"
     ]
    }
   ],
   "source": [
    "# 7 Найдите процентное соотношение учащихся, сдавших экзамен на «отлично», «хорошо», «удовлетворительно», «неудовлетворительно».\n",
    "# находим значение первой строки столбца \"Минимальный балл\"\n",
    "min_score = df.loc[0, 'Минимальный балл']\n",
    "\n",
    "# отфильтровываем строки с баллом ниже значения первой строки столбца \"Минимальный балл\"\n",
    "below_min_df = df[df['Балл'] < min_score]\n",
    "\n",
    "# находим процентное соотношение строк с баллом ниже значения первой строки столбца \"Минимальный балл\"\n",
    "below_min_percent = len(below_min_df) / len(df) * 100\n",
    "\n",
    "# отфильтровываем строки с баллом от значения первой строки столбца \"Минимальный балл\" до 70\n",
    "range1_df = df[(df['Балл'] >= min_score) & (df['Балл'] < 70)]\n",
    "\n",
    "# находим процентное соотношение строк с баллом в диапазоне от значения первой строки столбца \"Минимальный балл\" до 70\n",
    "range1_percent = len(range1_df) / len(df) * 100\n",
    "\n",
    "# отфильтровываем строки с баллом от 71 до 90\n",
    "range2_df = df[(df['Балл'] >= 71) & (df['Балл'] <= 90)]\n",
    "\n",
    "# находим процентное соотношение строк с баллом в диапазоне от 71 до 90\n",
    "range2_percent = len(range2_df) / len(df) * 100\n",
    "\n",
    "# отфильтровываем строки с баллом от 91 до 100\n",
    "range3_df = df[(df['Балл'] >= 91) & (df['Балл'] <= 100)]\n",
    "\n",
    "# находим процентное соотношение строк с баллом в диапазоне от 91 до 100\n",
    "range3_percent = len(range3_df) / len(df) * 100\n",
    "\n",
    "# выводим результаты на экран\n",
    "print(f\"Балл ниже минимального балла: {below_min_percent:.2f}% (неудовлетворительно)\")\n",
    "print(f\"Балл от {min_score} до 70: {range1_percent:.2f}% (удовлетворительно)\")\n",
    "print(f\"Балл от 71 до 90: {range2_percent:.2f}% (хорошо)\")\n",
    "print(f\"Балл от 91 до 100: {range3_percent:.2f}% (отлично)\")\n"
   ]
  },
  {
   "cell_type": "code",
   "execution_count": 15,
   "metadata": {},
   "outputs": [
    {
     "data": {
      "text/plain": [
       "Ж    57.97\n",
       "М    42.03\n",
       "Name: Пол, dtype: float64"
      ]
     },
     "execution_count": 15,
     "metadata": {},
     "output_type": "execute_result"
    }
   ],
   "source": [
    "# 8 Какое процентное соотношение юношей и девушек писало данный экзамен?\n",
    "counts = df['Пол'].value_counts()\n",
    "round(counts / len(df) * 100,2)"
   ]
  },
  {
   "cell_type": "code",
   "execution_count": 16,
   "metadata": {},
   "outputs": [
    {
     "data": {
      "text/plain": [
       "24"
      ]
     },
     "execution_count": 16,
     "metadata": {},
     "output_type": "execute_result"
    }
   ],
   "source": [
    "# 9 Сколько школ принимало участие в экзамене?\n",
    "df['№ школы'].nunique()"
   ]
  },
  {
   "cell_type": "code",
   "execution_count": 24,
   "metadata": {},
   "outputs": [
    {
     "name": "stdout",
     "output_type": "stream",
     "text": [
      "25 заданий с кратким ответом\n",
      "12 заданий с развернутым ответом\n",
      "3048\n"
     ]
    }
   ],
   "source": [
    "# 10 Сколько всего заданий с кратким ответом? С развернутым ответом?\n",
    "short_answer = df.at[0, 'Задания с кратким ответом']\n",
    "length_short_answer = len(short_answer)\n",
    "print(f\"{length_short_answer} заданий с кратким ответом\")\n",
    "\n",
    "long_answer = df.at[0, 'Задания с развёрнутым ответом']\n",
    "length_long_answer = len(re.sub(r'\\([^()]*\\)', '', long_answer))\n",
    "print(f\"{length_long_answer} заданий с развернутым ответом\")"
   ]
  },
  {
   "attachments": {},
   "cell_type": "markdown",
   "metadata": {},
   "source": [
    "11. Пусть задания с кратким ответом будут задания типа В. Соответственно всего по экзамену вопросов класса В: В, ... Вк Посчитайте процент выполненных и невыполненных заданий по каждому вопросу класса В.\n",
    "\n",
    "Выполненным заданием считается задание, где кол-во баллов, полученных за задачу, превышает ноль и не равно минусу."
   ]
  },
  {
   "cell_type": "code",
   "execution_count": 87,
   "metadata": {},
   "outputs": [
    {
     "name": "stdout",
     "output_type": "stream",
     "text": [
      "№ задания: % невыполненных / % выполненных\n",
      "Задание №0: 1.31 / 99.0\n",
      "Задание №1: 7.12 / 93.0\n",
      "Задание №2: 12.66 / 87.0\n",
      "Задание №3: 22.7 / 77.0\n",
      "Задание №4: 41.04 / 59.0\n",
      "Задание №5: 9.38 / 91.0\n",
      "Задание №6: 4.95 / 95.0\n",
      "Задание №7: 24.41 / 76.0\n",
      "Задание №8: 15.88 / 84.0\n",
      "Задание №9: 3.12 / 97.0\n",
      "Задание №10: 6.82 / 93.0\n",
      "Задание №11: 24.48 / 76.0\n",
      "Задание №12: 16.86 / 83.0\n",
      "Задание №13: 29.82 / 70.0\n",
      "Задание №14: 2.4 / 98.0\n",
      "Задание №15: 31.04 / 69.0\n",
      "Задание №16: 32.78 / 67.0\n",
      "Задание №17: 25.82 / 74.0\n",
      "Задание №18: 30.64 / 69.0\n",
      "Задание №19: 17.26 / 83.0\n",
      "Задание №20: 28.15 / 72.0\n",
      "Задание №21: 51.94 / 48.0\n",
      "Задание №22: 23.46 / 77.0\n",
      "Задание №23: 75.23 / 25.0\n",
      "Задание №24: 4.56 / 95.0\n"
     ]
    }
   ],
   "source": [
    "_ = df[\"Задания с кратким ответом\"]\n",
    "print(\"№ задания: % невыполненных / % выполненных\")\n",
    "for i in range(length_short_answer):\n",
    "    percentage = _.str[i].isin(['0', '-']).sum()/_.size\n",
    "    print(f\"Задание №{i}:\",round(percentage*100, 2),\"/\",round(1 - percentage,2)*100)"
   ]
  },
  {
   "attachments": {},
   "cell_type": "markdown",
   "metadata": {},
   "source": [
    "12. Аналогично и с типом С (ответы с развернутым ответом)\n",
    "\n",
    "Выполненным заданием считается задание, где кол-во баллов, полученных за задачу, превышает ноль."
   ]
  },
  {
   "cell_type": "code",
   "execution_count": 89,
   "metadata": {},
   "outputs": [
    {
     "name": "stdout",
     "output_type": "stream",
     "text": [
      "№ задания: % невыполненных / % выполненных\n",
      "Задание №0:  3.25 / 97.0\n",
      "Задание №4:  5.28 / 95.0\n",
      "Задание №8:  5.54 / 94.0\n",
      "Задание №12:  5.74 / 94.0\n",
      "Задание №16:  3.54 / 96.0\n",
      "Задание №20:  2.56 / 97.0\n",
      "Задание №24:  7.61 / 92.0\n",
      "Задание №28:  18.5 / 81.0\n",
      "Задание №32:  15.81 / 84.0\n",
      "Задание №36:  18.27 / 82.0\n",
      "Задание №40:  2.0 / 98.0\n",
      "Задание №44:  15.45 / 85.0\n"
     ]
    }
   ],
   "source": [
    "_ = df[\"Задания с развёрнутым ответом\"]\n",
    "print(\"№ задания: % невыполненных / % выполненных\")\n",
    "for i in range(length_long_answer*4):\n",
    "    if i%4==0:\n",
    "        percentage = _.str[i].isin(['0']).sum()/_.size\n",
    "        print(f\"Задание №{i}: \",round(percentage*100, 2),\"/\",round(1 - percentage,2)*100)"
   ]
  },
  {
   "attachments": {},
   "cell_type": "markdown",
   "metadata": {},
   "source": [
    "13. Сделайте анализ по двум школам:\n",
    "\n",
    "i. по всем выполненным заданиям типа В.\n",
    "\n",
    "ii. по заданиям типа С больше 50%.\n",
    "\n",
    "iii. по среднему баллу юношей и девушек.\n"
   ]
  },
  {
   "cell_type": "code",
   "execution_count": 126,
   "metadata": {},
   "outputs": [
    {
     "name": "stdout",
     "output_type": "stream",
     "text": [
      "68.5034965034965\n",
      "75.74585635359117\n",
      "64.36241610738254\n",
      "73.3021978021978\n"
     ]
    }
   ],
   "source": [
    "A, B = 148, 152\n",
    "score = df[\"Балл\"][2:]\n",
    "school_data = df[\"№ школы\"][2:]\n",
    "gender_data = df[\"Пол\"][2:]\n",
    "\n",
    "school_A_male_score = []\n",
    "school_A_female_score = []\n",
    "\n",
    "school_B_male_score = []\n",
    "school_B_female_score = []\n",
    "\n",
    "for i in range(2, len(score)):\n",
    "    if school_data[i] == 148:\n",
    "        if gender_data[i] == \"М\":\n",
    "           school_A_male_score.append(score[i])\n",
    "        if gender_data[i] == \"Ж\":\n",
    "            school_A_female_score.append(score[i])\n",
    "    if school_data[i] == 152:\n",
    "        if gender_data[i] == \"М\":\n",
    "            school_B_male_score.append(score[i])\n",
    "        if gender_data[i] == \"Ж\":\n",
    "            school_B_female_score.append(score[i])\n",
    "\n",
    "\n",
    "print(np.mean(school_A_male_score))\n",
    "print(np.mean(school_A_female_score))\n",
    "\n",
    "print(np.mean(school_B_male_score))\n",
    "print(np.mean(school_B_female_score))"
   ]
  },
  {
   "attachments": {},
   "cell_type": "markdown",
   "metadata": {},
   "source": [
    "14. Для каждого задания добавьте соответствующий раздел в ноутбук и текстовые пояснения."
   ]
  }
 ],
 "metadata": {
  "kernelspec": {
   "display_name": "Python 3",
   "language": "python",
   "name": "python3"
  },
  "language_info": {
   "codemirror_mode": {
    "name": "ipython",
    "version": 3
   },
   "file_extension": ".py",
   "mimetype": "text/x-python",
   "name": "python",
   "nbconvert_exporter": "python",
   "pygments_lexer": "ipython3",
   "version": "3.10.5"
  },
  "orig_nbformat": 4,
  "vscode": {
   "interpreter": {
    "hash": "4fb5760d01c9e18acbf19ac0fe4dc93afe13fe6f69b1d13f8c2e3646eb7acd70"
   }
  }
 },
 "nbformat": 4,
 "nbformat_minor": 2
}
