{
 "cells": [
  {
   "cell_type": "code",
   "execution_count": 71,
   "metadata": {
    "collapsed": true
   },
   "outputs": [],
   "source": [
    "import pandas as pd\n",
    "import openpyxl"
   ]
  },
  {
   "cell_type": "markdown",
   "source": [
    "1. Загрузите данные по вариантам в ноутбук."
   ],
   "metadata": {
    "collapsed": false
   }
  },
  {
   "cell_type": "code",
   "execution_count": 72,
   "outputs": [],
   "source": [
    "var_4 = pd.read_excel('data/Вариант 4.xlsx')"
   ],
   "metadata": {
    "collapsed": false
   }
  },
  {
   "cell_type": "markdown",
   "source": [
    "2. Сделайте описательную статистику полученных данных."
   ],
   "metadata": {
    "collapsed": false
   }
  },
  {
   "cell_type": "code",
   "execution_count": 73,
   "outputs": [
    {
     "data": {
      "text/plain": "1      № № школы Класс  Пол Номер варианта Задания с кратким ответом  \\\n2      1     148    13    М            505   -----------------------   \n3      2     147    11    М            328   -----------------------   \n4      3     111    11    М            330   ---+---+-+-------------   \n5      4     140    11    М            328   ---+---------++--------   \n6      5     148    11    М            328   ----+---------+-----+--   \n..   ...     ...   ...  ...            ...                       ...   \n139  138     147    11    М            333   +++++++++++++++++++++++   \n140  139     140    11    М            329   +++++++++++++++++++-+++   \n141  140     148    11    Ж            332   -++++++++++++++++++++++   \n142  141     148    11    М            329   +++++++++++++++++++++++   \n143  NaN     NaN   NaN  NaN            NaN                       NaN   \n\n1   Задания с развёрнутым ответом      Устная часть Первичный балл       Балл  \\\n2                0(3)0(2)0(3)0(4)               NaN              0          0   \n3                0(3)0(2)0(3)0(4)               NaN              0          0   \n4                0(3)0(2)0(3)0(4)               NaN              3         20   \n5                0(3)0(2)0(3)0(4)               NaN              3         20   \n6                0(3)0(2)0(3)0(4)               NaN              3         20   \n..                            ...               ...            ...        ...   \n139              3(3)2(2)2(3)4(4)               NaN             34         97   \n140              3(3)2(2)3(3)4(4)               NaN             34         97   \n141              3(3)2(2)3(3)4(4)               NaN             34         97   \n142              3(3)2(2)3(3)4(4)               NaN             35        100   \n143                           NaN  Среднее значение            NaN  60.780142   \n\n1   Минимальный балл  \n2                 40  \n3                 40  \n4                 40  \n5                 40  \n6                 40  \n..               ...  \n139               40  \n140               40  \n141               40  \n142               40  \n143              NaN  \n\n[142 rows x 11 columns]",
      "text/html": "<div>\n<style scoped>\n    .dataframe tbody tr th:only-of-type {\n        vertical-align: middle;\n    }\n\n    .dataframe tbody tr th {\n        vertical-align: top;\n    }\n\n    .dataframe thead th {\n        text-align: right;\n    }\n</style>\n<table border=\"1\" class=\"dataframe\">\n  <thead>\n    <tr style=\"text-align: right;\">\n      <th>1</th>\n      <th>№</th>\n      <th>№ школы</th>\n      <th>Класс</th>\n      <th>Пол</th>\n      <th>Номер варианта</th>\n      <th>Задания с кратким ответом</th>\n      <th>Задания с развёрнутым ответом</th>\n      <th>Устная часть</th>\n      <th>Первичный балл</th>\n      <th>Балл</th>\n      <th>Минимальный балл</th>\n    </tr>\n  </thead>\n  <tbody>\n    <tr>\n      <th>2</th>\n      <td>1</td>\n      <td>148</td>\n      <td>13</td>\n      <td>М</td>\n      <td>505</td>\n      <td>-----------------------</td>\n      <td>0(3)0(2)0(3)0(4)</td>\n      <td>NaN</td>\n      <td>0</td>\n      <td>0</td>\n      <td>40</td>\n    </tr>\n    <tr>\n      <th>3</th>\n      <td>2</td>\n      <td>147</td>\n      <td>11</td>\n      <td>М</td>\n      <td>328</td>\n      <td>-----------------------</td>\n      <td>0(3)0(2)0(3)0(4)</td>\n      <td>NaN</td>\n      <td>0</td>\n      <td>0</td>\n      <td>40</td>\n    </tr>\n    <tr>\n      <th>4</th>\n      <td>3</td>\n      <td>111</td>\n      <td>11</td>\n      <td>М</td>\n      <td>330</td>\n      <td>---+---+-+-------------</td>\n      <td>0(3)0(2)0(3)0(4)</td>\n      <td>NaN</td>\n      <td>3</td>\n      <td>20</td>\n      <td>40</td>\n    </tr>\n    <tr>\n      <th>5</th>\n      <td>4</td>\n      <td>140</td>\n      <td>11</td>\n      <td>М</td>\n      <td>328</td>\n      <td>---+---------++--------</td>\n      <td>0(3)0(2)0(3)0(4)</td>\n      <td>NaN</td>\n      <td>3</td>\n      <td>20</td>\n      <td>40</td>\n    </tr>\n    <tr>\n      <th>6</th>\n      <td>5</td>\n      <td>148</td>\n      <td>11</td>\n      <td>М</td>\n      <td>328</td>\n      <td>----+---------+-----+--</td>\n      <td>0(3)0(2)0(3)0(4)</td>\n      <td>NaN</td>\n      <td>3</td>\n      <td>20</td>\n      <td>40</td>\n    </tr>\n    <tr>\n      <th>...</th>\n      <td>...</td>\n      <td>...</td>\n      <td>...</td>\n      <td>...</td>\n      <td>...</td>\n      <td>...</td>\n      <td>...</td>\n      <td>...</td>\n      <td>...</td>\n      <td>...</td>\n      <td>...</td>\n    </tr>\n    <tr>\n      <th>139</th>\n      <td>138</td>\n      <td>147</td>\n      <td>11</td>\n      <td>М</td>\n      <td>333</td>\n      <td>+++++++++++++++++++++++</td>\n      <td>3(3)2(2)2(3)4(4)</td>\n      <td>NaN</td>\n      <td>34</td>\n      <td>97</td>\n      <td>40</td>\n    </tr>\n    <tr>\n      <th>140</th>\n      <td>139</td>\n      <td>140</td>\n      <td>11</td>\n      <td>М</td>\n      <td>329</td>\n      <td>+++++++++++++++++++-+++</td>\n      <td>3(3)2(2)3(3)4(4)</td>\n      <td>NaN</td>\n      <td>34</td>\n      <td>97</td>\n      <td>40</td>\n    </tr>\n    <tr>\n      <th>141</th>\n      <td>140</td>\n      <td>148</td>\n      <td>11</td>\n      <td>Ж</td>\n      <td>332</td>\n      <td>-++++++++++++++++++++++</td>\n      <td>3(3)2(2)3(3)4(4)</td>\n      <td>NaN</td>\n      <td>34</td>\n      <td>97</td>\n      <td>40</td>\n    </tr>\n    <tr>\n      <th>142</th>\n      <td>141</td>\n      <td>148</td>\n      <td>11</td>\n      <td>М</td>\n      <td>329</td>\n      <td>+++++++++++++++++++++++</td>\n      <td>3(3)2(2)3(3)4(4)</td>\n      <td>NaN</td>\n      <td>35</td>\n      <td>100</td>\n      <td>40</td>\n    </tr>\n    <tr>\n      <th>143</th>\n      <td>NaN</td>\n      <td>NaN</td>\n      <td>NaN</td>\n      <td>NaN</td>\n      <td>NaN</td>\n      <td>NaN</td>\n      <td>NaN</td>\n      <td>Среднее значение</td>\n      <td>NaN</td>\n      <td>60.780142</td>\n      <td>NaN</td>\n    </tr>\n  </tbody>\n</table>\n<p>142 rows × 11 columns</p>\n</div>"
     },
     "execution_count": 73,
     "metadata": {},
     "output_type": "execute_result"
    }
   ],
   "source": [
    "new_columns = var_4.iloc[1]  # выбираем вторую строку как заголовки\n",
    "var_4.columns = new_columns  # присваиваем новые заголовки DataFrame\n",
    "var_4.drop(index=[0, 1], inplace=True)\n",
    "var_4"
   ],
   "metadata": {
    "collapsed": false
   }
  },
  {
   "cell_type": "markdown",
   "source": [
    "3. Найдите процент учащихся, выполнивших работу ниже среднего."
   ],
   "metadata": {
    "collapsed": false
   }
  },
  {
   "cell_type": "code",
   "execution_count": 74,
   "outputs": [
    {
     "name": "stdout",
     "output_type": "stream",
     "text": [
      "Процент учащихся, выполнивших работу ниже среднего для Вар4: 45.77%\n"
     ]
    }
   ],
   "source": [
    "# вычисление среднего значения\n",
    "mean_score4 = var_4[\"Балл\"].mean()\n",
    "\n",
    "# подсчет количества учеников, у которых балл меньше среднего\n",
    "\n",
    "below_mean4 = var_4[var_4[\"Балл\"] < mean_score4]\n",
    "count_below_mean4 = len(below_mean4)\n",
    "\n",
    "# вычисление процента учеников, выполнивших работу ниже среднего\n",
    "percent_below_mean4 = (count_below_mean4 / len(var_4)) * 100\n",
    "\n",
    "print(\"Процент учащихся, выполнивших работу ниже среднего для Вар4: {:.2f}%\".format(percent_below_mean4))"
   ],
   "metadata": {
    "collapsed": false
   }
  },
  {
   "cell_type": "markdown",
   "source": [
    "4. Найти процент учащихся не сдавших экзамен."
   ],
   "metadata": {
    "collapsed": false
   }
  },
  {
   "cell_type": "code",
   "execution_count": 75,
   "outputs": [
    {
     "name": "stdout",
     "output_type": "stream",
     "text": [
      "Процент учащихся, не сдавших экзамен для Вар4: 11.97%\n"
     ]
    }
   ],
   "source": [
    "\n",
    "non_passing4 = var_4[var_4['Балл'] <= var_4['Минимальный балл']]\n",
    "count_non_passing4 = len(non_passing4)\n",
    "\n",
    "\n",
    "percent_non_passing4 = (count_non_passing4 / len(var_4)) * 100\n",
    "\n",
    "\n",
    "print(\"Процент учащихся, не сдавших экзамен для Вар4: {:.2f}%\".format(percent_non_passing4))"
   ],
   "metadata": {
    "collapsed": false
   }
  },
  {
   "cell_type": "markdown",
   "source": [
    "5. Постройте круговую диаграмму, показывающую распределение сдавших и не сдавших экзамен."
   ],
   "metadata": {
    "collapsed": false
   }
  },
  {
   "cell_type": "code",
   "execution_count": 76,
   "outputs": [
    {
     "data": {
      "text/plain": "<Figure size 640x480 with 1 Axes>",
      "image/png": "[encoded data removed]"
     },
     "metadata": {},
     "output_type": "display_data"
    }
   ],
   "source": [
    "import matplotlib.pyplot as plt\n",
    "\n",
    "\n",
    "passing4 = var_4[var_4['Балл'] <= var_4['Минимальный балл']]\n",
    "count_passing4 = len(passing4)\n",
    "count_non_passing4 = len(var_4) - count_passing4\n",
    "\n",
    "\n",
    "data4 = {\"Результат экзамена\": [\"Сдал\", \"Не сдал\"],\n",
    "        \"Количество учеников\": [count_passing4, count_non_passing4]}\n",
    "df_pie4 = pd.DataFrame(data4)\n",
    "\n",
    "\n",
    "\n",
    "plt.pie(df_pie4[\"Количество учеников\"], labels=df_pie4[\"Результат экзамена\"], autopct='%1.1f%%')\n",
    "plt.show()"
   ],
   "metadata": {
    "collapsed": false
   }
  },
  {
   "cell_type": "markdown",
   "source": [
    "6. Постройте ядерную оценку плотности распределению баллов за экзамен."
   ],
   "metadata": {
    "collapsed": false
   }
  },
  {
   "cell_type": "code",
   "execution_count": 77,
   "outputs": [
    {
     "data": {
      "text/plain": "<Axes: ylabel='Density'>"
     },
     "execution_count": 77,
     "metadata": {},
     "output_type": "execute_result"
    },
    {
     "data": {
      "text/plain": "<Figure size 640x480 with 1 Axes>",
      "image/png": "[encoded data removed]"
     },
     "metadata": {},
     "output_type": "display_data"
    }
   ],
   "source": [
    "import scipy\n",
    "scores4 = var_4['Балл']\n",
    "\n",
    "# построение ядерной оценки плотности распределения\n",
    "\n",
    "scores4.plot.kde()\n"
   ],
   "metadata": {
    "collapsed": false
   }
  },
  {
   "cell_type": "markdown",
   "source": [
    "7. Найдите процентное соотношение учащихся, сдавших экзамен на «отлично», «хорошо», «удовлетворительно», «неудовлетворительно»."
   ],
   "metadata": {
    "collapsed": false
   }
  },
  {
   "cell_type": "code",
   "execution_count": 78,
   "outputs": [
    {
     "name": "stdout",
     "output_type": "stream",
     "text": [
      "Отлично: 7.04%\n",
      "Хорошо: 31.69%\n",
      "Удовлетворительно: 49.30%\n",
      "Неудовлетворительно: 11.27%\n"
     ]
    }
   ],
   "source": [
    "# посчитать количество студентов, получивших каждую оценку\n",
    "excellent_count = var_4[var_4['Балл'] >= 86]['Балл'].count()\n",
    "good_count = var_4[(var_4['Балл'] >= 70) & (var_4['Балл'] < 85)]['Балл'].count()\n",
    "satisfactory_count = var_4[(var_4['Балл'] >= var_4[\"Минимальный балл\"]) & (var_4['Балл'] < 69)]['Балл'].count()\n",
    "unsatisfactory_count = var_4[var_4['Балл'] < var_4[\"Минимальный балл\"]]['Балл'].count()\n",
    "\n",
    "# посчитать процентное соотношение\n",
    "total_count = var_4['Балл'].count()\n",
    "excellent_percent = excellent_count / total_count * 100\n",
    "good_percent = good_count / total_count * 100\n",
    "satisfactory_percent = satisfactory_count / total_count * 100\n",
    "unsatisfactory_percent = unsatisfactory_count / total_count * 100\n",
    "\n",
    "# вывести результаты\n",
    "print('Отлично: {:.2f}%'.format(excellent_percent))\n",
    "print('Хорошо: {:.2f}%'.format(good_percent))\n",
    "print('Удовлетворительно: {:.2f}%'.format(satisfactory_percent))\n",
    "print('Неудовлетворительно: {:.2f}%'.format(unsatisfactory_percent))"
   ],
   "metadata": {
    "collapsed": false
   }
  },
  {
   "cell_type": "markdown",
   "source": [
    "8. Какое процентное соотношение юношей и девушек писало данный экзамен?"
   ],
   "metadata": {
    "collapsed": false
   }
  },
  {
   "cell_type": "code",
   "execution_count": 79,
   "outputs": [
    {
     "name": "stdout",
     "output_type": "stream",
     "text": [
      "Юноши: 77.30%\n",
      "Девушки: 22.70%\n"
     ]
    }
   ],
   "source": [
    "male_count = var_4[var_4['Пол'] == 'М']['Пол'].count()\n",
    "female_count = var_4[var_4['Пол'] == 'Ж']['Пол'].count()\n",
    "\n",
    "# посчитать процентное соотношение\n",
    "total_count = var_4['Пол'].count()\n",
    "male_percent = male_count / total_count * 100\n",
    "female_percent = female_count / total_count * 100\n",
    "\n",
    "# вывести результаты\n",
    "print('Юноши: {:.2f}%'.format(male_percent))\n",
    "print('Девушки: {:.2f}%'.format(female_percent))"
   ],
   "metadata": {
    "collapsed": false
   }
  },
  {
   "cell_type": "markdown",
   "source": [
    "9. Сколько школ принимало участие в экзамене?"
   ],
   "metadata": {
    "collapsed": false
   }
  },
  {
   "cell_type": "code",
   "execution_count": 80,
   "outputs": [
    {
     "name": "stdout",
     "output_type": "stream",
     "text": [
      "Количество школ, принимавших участие в экзамене: 10\n"
     ]
    }
   ],
   "source": [
    "# посчитать количество уникальных значений в столбце \"N школы\"\n",
    "num_schools = var_4['№ школы'].nunique()\n",
    "\n",
    "# вывести результаты\n",
    "print('Количество школ, принимавших участие в экзамене: {}'.format(num_schools))"
   ],
   "metadata": {
    "collapsed": false
   }
  },
  {
   "cell_type": "markdown",
   "source": [
    "10. Сколько всего заданий с кратким ответом? С развернутым ответом?"
   ],
   "metadata": {
    "collapsed": false
   }
  },
  {
   "cell_type": "code",
   "execution_count": 81,
   "outputs": [
    {
     "data": {
      "text/plain": "(23.0, 4.0)"
     },
     "execution_count": 81,
     "metadata": {},
     "output_type": "execute_result"
    }
   ],
   "source": [
    "short_answer_column = var_4['Задания с кратким ответом']\n",
    "short_answer_count = short_answer_column.str.count('.').max()\n",
    "long_answer_column = var_4['Задания с развёрнутым ответом']\n",
    "long_answer_count = long_answer_column.str.count('\\(').max()\n",
    "short_answer_count, long_answer_count"
   ],
   "metadata": {
    "collapsed": false
   }
  },
  {
   "cell_type": "markdown",
   "source": [
    "11. Пусть задания с кратким ответом будут задания типа В. Соответственно всего по экзамену вопросов класса В: В\n",
    ", ... Вк\n",
    " Посчитайте процент выполненных и невыполненных заданий по каждому вопросу класса В."
   ],
   "metadata": {
    "collapsed": false
   }
  },
  {
   "cell_type": "code",
   "execution_count": 82,
   "outputs": [
    {
     "name": "stdout",
     "output_type": "stream",
     "text": [
      "Плюсов: 58.96%\n",
      "Минусов: 41.04%\n"
     ]
    }
   ],
   "source": [
    "plus_answer_count = short_answer_column.str.count('\\+').sum()\n",
    "minus_answer_count = short_answer_column.str.count('\\-').sum()\n",
    "total = short_answer_column.str.count('.').sum()\n",
    "\n",
    "plus_percent = plus_answer_count / total * 100\n",
    "minus_percent = minus_answer_count / total * 100\n",
    "\n",
    "# вывести результаты\n",
    "print('Плюсов: {:.2f}%'.format(plus_percent))\n",
    "print('Минусов: {:.2f}%'.format(minus_percent))\n"
   ],
   "metadata": {
    "collapsed": false
   }
  },
  {
   "cell_type": "code",
   "execution_count": 128,
   "outputs": [
    {
     "name": "stdout",
     "output_type": "stream",
     "text": [
      "Процент выполненных и невыполненных заданий по каждому вопросу типа В:\n",
      "Задание 1: 0.0 / 100.0\n",
      "Задание 2: 0.0 / 100.0\n",
      "Задание 3: 13.043478260869565 / 86.95652173913044\n",
      "Задание 4: 13.043478260869565 / 86.95652173913044\n",
      "Задание 5: 13.043478260869565 / 86.95652173913044\n",
      "Задание 6: 13.043478260869565 / 86.95652173913044\n",
      "Задание 7: 13.043478260869565 / 86.95652173913044\n",
      "Задание 8: 17.391304347826086 / 82.6086956521739\n",
      "Задание 9: 17.391304347826086 / 82.6086956521739\n",
      "Задание 10: 17.391304347826086 / 82.6086956521739\n",
      "Задание 11: 17.391304347826086 / 82.6086956521739\n",
      "Задание 12: 17.391304347826086 / 82.6086956521739\n",
      "Задание 13: 21.73913043478261 / 78.26086956521739\n",
      "Задание 14: 21.73913043478261 / 78.26086956521739\n",
      "Задание 15: 21.73913043478261 / 78.26086956521739\n",
      "Задание 16: 21.73913043478261 / 78.26086956521739\n",
      "Задание 17: 26.08695652173913 / 73.91304347826087\n",
      "Задание 18: 30.434782608695656 / 69.56521739130434\n",
      "Задание 19: 26.08695652173913 / 73.91304347826087\n",
      "Задание 20: 30.434782608695656 / 69.56521739130434\n",
      "Задание 21: 30.434782608695656 / 69.56521739130434\n",
      "Задание 22: 30.434782608695656 / 69.56521739130434\n",
      "Задание 23: 26.08695652173913 / 73.91304347826087\n",
      "Задание 24: 34.78260869565217 / 65.21739130434783\n",
      "Задание 25: 39.130434782608695 / 60.869565217391305\n",
      "Задание 26: 39.130434782608695 / 60.869565217391305\n",
      "Задание 27: 39.130434782608695 / 60.869565217391305\n",
      "Задание 28: 26.08695652173913 / 73.91304347826087\n",
      "Задание 29: 39.130434782608695 / 60.869565217391305\n",
      "Задание 30: 39.130434782608695 / 60.869565217391305\n",
      "Задание 31: 39.130434782608695 / 60.869565217391305\n",
      "Задание 32: 43.47826086956522 / 56.52173913043478\n",
      "Задание 33: 30.434782608695656 / 69.56521739130434\n",
      "Задание 34: 43.47826086956522 / 56.52173913043478\n",
      "Задание 35: 43.47826086956522 / 56.52173913043478\n",
      "Задание 36: 43.47826086956522 / 56.52173913043478\n",
      "Задание 37: 39.130434782608695 / 60.869565217391305\n",
      "Задание 38: 47.82608695652174 / 52.17391304347826\n",
      "Задание 39: 43.47826086956522 / 56.52173913043478\n",
      "Задание 40: 39.130434782608695 / 60.869565217391305\n",
      "Задание 41: 47.82608695652174 / 52.17391304347826\n",
      "Задание 42: 39.130434782608695 / 60.869565217391305\n",
      "Задание 43: 52.17391304347826 / 47.82608695652174\n",
      "Задание 44: 30.434782608695656 / 69.56521739130434\n",
      "Задание 45: 47.82608695652174 / 52.17391304347826\n",
      "Задание 46: 52.17391304347826 / 47.82608695652174\n",
      "Задание 47: 43.47826086956522 / 56.52173913043478\n",
      "Задание 48: 60.86956521739131 / 39.13043478260869\n",
      "Задание 49: 60.86956521739131 / 39.13043478260869\n",
      "Задание 50: 52.17391304347826 / 47.82608695652174\n",
      "Задание 51: 56.52173913043478 / 43.47826086956522\n",
      "Задание 52: 52.17391304347826 / 47.82608695652174\n",
      "Задание 53: 47.82608695652174 / 52.17391304347826\n",
      "Задание 54: 56.52173913043478 / 43.47826086956522\n",
      "Задание 55: 65.21739130434783 / 34.78260869565217\n",
      "Задание 56: 47.82608695652174 / 52.17391304347826\n",
      "Задание 57: 56.52173913043478 / 43.47826086956522\n",
      "Задание 58: 47.82608695652174 / 52.17391304347826\n",
      "Задание 59: 52.17391304347826 / 47.82608695652174\n",
      "Задание 60: 52.17391304347826 / 47.82608695652174\n",
      "Задание 61: 60.86956521739131 / 39.13043478260869\n",
      "Задание 62: 56.52173913043478 / 43.47826086956522\n",
      "Задание 63: 69.56521739130434 / 30.434782608695656\n",
      "Задание 64: 47.82608695652174 / 52.17391304347826\n",
      "Задание 65: 60.86956521739131 / 39.13043478260869\n",
      "Задание 66: 69.56521739130434 / 30.434782608695656\n",
      "Задание 67: 65.21739130434783 / 34.78260869565217\n",
      "Задание 68: 56.52173913043478 / 43.47826086956522\n",
      "Задание 69: 60.86956521739131 / 39.13043478260869\n",
      "Задание 70: 52.17391304347826 / 47.82608695652174\n",
      "Задание 71: 65.21739130434783 / 34.78260869565217\n",
      "Задание 72: 65.21739130434783 / 34.78260869565217\n",
      "Задание 73: 73.91304347826086 / 26.08695652173914\n",
      "Задание 74: 69.56521739130434 / 30.434782608695656\n",
      "Задание 75: 60.86956521739131 / 39.13043478260869\n",
      "Задание 76: 73.91304347826086 / 26.08695652173914\n",
      "Задание 77: 60.86956521739131 / 39.13043478260869\n",
      "Задание 78: 65.21739130434783 / 34.78260869565217\n",
      "Задание 79: 56.52173913043478 / 43.47826086956522\n",
      "Задание 80: 60.86956521739131 / 39.13043478260869\n",
      "Задание 81: 73.91304347826086 / 26.08695652173914\n",
      "Задание 82: 69.56521739130434 / 30.434782608695656\n",
      "Задание 83: 65.21739130434783 / 34.78260869565217\n",
      "Задание 84: 73.91304347826086 / 26.08695652173914\n",
      "Задание 85: 82.6086956521739 / 17.391304347826093\n",
      "Задание 86: 73.91304347826086 / 26.08695652173914\n",
      "Задание 87: 56.52173913043478 / 43.47826086956522\n",
      "Задание 88: 73.91304347826086 / 26.08695652173914\n",
      "Задание 89: 65.21739130434783 / 34.78260869565217\n",
      "Задание 90: 73.91304347826086 / 26.08695652173914\n",
      "Задание 91: 73.91304347826086 / 26.08695652173914\n",
      "Задание 92: 69.56521739130434 / 30.434782608695656\n",
      "Задание 93: 65.21739130434783 / 34.78260869565217\n",
      "Задание 94: 78.26086956521739 / 21.73913043478261\n",
      "Задание 95: 82.6086956521739 / 17.391304347826093\n",
      "Задание 96: 60.86956521739131 / 39.13043478260869\n",
      "Задание 97: 78.26086956521739 / 21.73913043478261\n",
      "Задание 98: 69.56521739130434 / 30.434782608695656\n",
      "Задание 99: 69.56521739130434 / 30.434782608695656\n",
      "Задание 100: 82.6086956521739 / 17.391304347826093\n",
      "Задание 101: 69.56521739130434 / 30.434782608695656\n",
      "Задание 102: 69.56521739130434 / 30.434782608695656\n",
      "Задание 103: 82.6086956521739 / 17.391304347826093\n",
      "Задание 104: 65.21739130434783 / 34.78260869565217\n",
      "Задание 105: 82.6086956521739 / 17.391304347826093\n",
      "Задание 106: 86.95652173913044 / 13.043478260869563\n",
      "Задание 107: 86.95652173913044 / 13.043478260869563\n",
      "Задание 108: 82.6086956521739 / 17.391304347826093\n",
      "Задание 109: 86.95652173913044 / 13.043478260869563\n",
      "Задание 110: 82.6086956521739 / 17.391304347826093\n",
      "Задание 111: 82.6086956521739 / 17.391304347826093\n",
      "Задание 112: 82.6086956521739 / 17.391304347826093\n",
      "Задание 113: 86.95652173913044 / 13.043478260869563\n",
      "Задание 114: 82.6086956521739 / 17.391304347826093\n",
      "Задание 115: 91.30434782608695 / 8.695652173913047\n",
      "Задание 116: 73.91304347826086 / 26.08695652173914\n",
      "Задание 117: 78.26086956521739 / 21.73913043478261\n",
      "Задание 118: 78.26086956521739 / 21.73913043478261\n",
      "Задание 119: 82.6086956521739 / 17.391304347826093\n",
      "Задание 120: 73.91304347826086 / 26.08695652173914\n",
      "Задание 121: 73.91304347826086 / 26.08695652173914\n",
      "Задание 122: 86.95652173913044 / 13.043478260869563\n",
      "Задание 123: 78.26086956521739 / 21.73913043478261\n",
      "Задание 124: 91.30434782608695 / 8.695652173913047\n",
      "Задание 125: 78.26086956521739 / 21.73913043478261\n",
      "Задание 126: 82.6086956521739 / 17.391304347826093\n",
      "Задание 127: 91.30434782608695 / 8.695652173913047\n",
      "Задание 128: 86.95652173913044 / 13.043478260869563\n",
      "Задание 129: 78.26086956521739 / 21.73913043478261\n",
      "Задание 130: 91.30434782608695 / 8.695652173913047\n",
      "Задание 131: 86.95652173913044 / 13.043478260869563\n",
      "Задание 132: 91.30434782608695 / 8.695652173913047\n",
      "Задание 133: 95.65217391304348 / 4.347826086956516\n",
      "Задание 134: 100.0 / 0.0\n",
      "Задание 135: 91.30434782608695 / 8.695652173913047\n",
      "Задание 136: 95.65217391304348 / 4.347826086956516\n",
      "Задание 137: 91.30434782608695 / 8.695652173913047\n",
      "Задание 138: 100.0 / 0.0\n",
      "Задание 139: 95.65217391304348 / 4.347826086956516\n",
      "Задание 140: 95.65217391304348 / 4.347826086956516\n",
      "Задание 141: 100.0 / 0.0\n"
     ]
    },
    {
     "ename": "AttributeError",
     "evalue": "'float' object has no attribute 'count'",
     "output_type": "error",
     "traceback": [
      "\u001B[1;31m---------------------------------------------------------------------------\u001B[0m",
      "\u001B[1;31mAttributeError\u001B[0m                            Traceback (most recent call last)",
      "Cell \u001B[1;32mIn[128], line 8\u001B[0m\n\u001B[0;32m      6\u001B[0m \u001B[38;5;28;01mfor\u001B[39;00m b \u001B[38;5;129;01min\u001B[39;00m var_4[\u001B[38;5;124m'\u001B[39m\u001B[38;5;124mЗадания с кратким ответом\u001B[39m\u001B[38;5;124m'\u001B[39m]:\n\u001B[0;32m      7\u001B[0m         c \u001B[38;5;241m+\u001B[39m\u001B[38;5;241m=\u001B[39m \u001B[38;5;241m1\u001B[39m\n\u001B[1;32m----> 8\u001B[0m         mid_ans \u001B[38;5;241m=\u001B[39m \u001B[43mb\u001B[49m\u001B[38;5;241;43m.\u001B[39;49m\u001B[43mcount\u001B[49m(\u001B[38;5;124m'\u001B[39m\u001B[38;5;124m+\u001B[39m\u001B[38;5;124m'\u001B[39m)\u001B[38;5;241m/\u001B[39m\u001B[38;5;28mlen\u001B[39m(b)\u001B[38;5;241m*\u001B[39m\u001B[38;5;241m100\u001B[39m\n\u001B[0;32m      9\u001B[0m         anti_mid \u001B[38;5;241m=\u001B[39m \u001B[38;5;241m100\u001B[39m \u001B[38;5;241m-\u001B[39m mid_ans\n\u001B[0;32m     11\u001B[0m         \u001B[38;5;28mprint\u001B[39m(\u001B[38;5;124mf\u001B[39m\u001B[38;5;124m'\u001B[39m\u001B[38;5;124mЗадание \u001B[39m\u001B[38;5;132;01m{\u001B[39;00mc\u001B[38;5;132;01m}\u001B[39;00m\u001B[38;5;124m: \u001B[39m\u001B[38;5;132;01m{\u001B[39;00mmid_ans\u001B[38;5;132;01m}\u001B[39;00m\u001B[38;5;124m / \u001B[39m\u001B[38;5;132;01m{\u001B[39;00manti_mid\u001B[38;5;132;01m}\u001B[39;00m\u001B[38;5;124m'\u001B[39m)\n",
      "\u001B[1;31mAttributeError\u001B[0m: 'float' object has no attribute 'count'"
     ]
    }
   ],
   "source": [
    "c = 0\n",
    "# посчитать количество выполненных и невыполненных заданий по каждому вопросу типа В\n",
    "\n",
    "print('Процент выполненных и невыполненных заданий по каждому вопросу типа В:')\n",
    "for b in var_4['Задания с кратким ответом']:\n",
    "        c += 1\n",
    "        mid_ans = b.count('+')/len(b)*100\n",
    "        anti_mid = 100 - mid_ans\n",
    "\n",
    "        print(f'Задание {c}: {mid_ans} / {anti_mid}')\n"
   ],
   "metadata": {
    "collapsed": false
   }
  },
  {
   "cell_type": "code",
   "execution_count": 147,
   "outputs": [
    {
     "name": "stdout",
     "output_type": "stream",
     "text": [
      "Процент выполненных и невыполненных заданий по каждому вопросу типа С:\n",
      "Задание 1: 0.0 / 100.0\n",
      "Задание 2: 0.0 / 100.0\n",
      "Задание 3: 0.0 / 100.0\n",
      "Задание 4: 0.0 / 100.0\n",
      "Задание 5: 0.0 / 100.0\n",
      "Задание 6: 0.0 / 100.0\n",
      "Задание 7: 0.0 / 100.0\n",
      "Задание 8: 0.0 / 100.0\n",
      "Задание 9: 0.0 / 100.0\n",
      "Задание 10: 0.0 / 100.0\n",
      "Задание 11: 0.0 / 100.0\n",
      "Задание 12: 0.0 / 100.0\n",
      "Задание 13: 0.0 / 100.0\n",
      "Задание 14: 0.0 / 100.0\n",
      "Задание 15: 0.0 / 100.0\n",
      "Задание 16: 0.0 / 100.0\n",
      "Задание 17: 0.0 / 100.0\n",
      "Задание 18: 0.0 / 100.0\n",
      "Задание 19: 8.333333333333332 / 91.66666666666667\n",
      "Задание 20: 0.0 / 100.0\n",
      "Задание 21: 0.0 / 100.0\n",
      "Задание 22: 0.0 / 100.0\n",
      "Задание 23: 16.666666666666664 / 83.33333333333334\n",
      "Задание 24: 8.333333333333332 / 91.66666666666667\n",
      "Задание 25: 0.0 / 100.0\n",
      "Задание 26: 0.0 / 100.0\n",
      "Задание 27: 0.0 / 100.0\n",
      "Задание 28: 25.0 / 75.0\n",
      "Задание 29: 0.0 / 100.0\n",
      "Задание 30: 8.333333333333332 / 91.66666666666667\n",
      "Задание 31: 8.333333333333332 / 91.66666666666667\n",
      "Задание 32: 0.0 / 100.0\n",
      "Задание 33: 25.0 / 75.0\n",
      "Задание 34: 0.0 / 100.0\n",
      "Задание 35: 0.0 / 100.0\n",
      "Задание 36: 8.333333333333332 / 91.66666666666667\n",
      "Задание 37: 16.666666666666664 / 83.33333333333334\n",
      "Задание 38: 0.0 / 100.0\n",
      "Задание 39: 8.333333333333332 / 91.66666666666667\n",
      "Задание 40: 16.666666666666664 / 83.33333333333334\n",
      "Задание 41: 0.0 / 100.0\n",
      "Задание 42: 16.666666666666664 / 83.33333333333334\n",
      "Задание 43: 0.0 / 100.0\n",
      "Задание 44: 41.66666666666667 / 58.33333333333333\n",
      "Задание 45: 8.333333333333332 / 91.66666666666667\n",
      "Задание 46: 0.0 / 100.0\n",
      "Задание 47: 25.0 / 75.0\n",
      "Задание 48: 0.0 / 100.0\n",
      "Задание 49: 0.0 / 100.0\n",
      "Задание 50: 16.666666666666664 / 83.33333333333334\n",
      "Задание 51: 8.333333333333332 / 91.66666666666667\n",
      "Задание 52: 16.666666666666664 / 83.33333333333334\n",
      "Задание 53: 25.0 / 75.0\n",
      "Задание 54: 16.666666666666664 / 83.33333333333334\n",
      "Задание 55: 0.0 / 100.0\n",
      "Задание 56: 33.33333333333333 / 66.66666666666667\n",
      "Задание 57: 16.666666666666664 / 83.33333333333334\n",
      "Задание 58: 33.33333333333333 / 66.66666666666667\n",
      "Задание 59: 25.0 / 75.0\n",
      "Задание 60: 25.0 / 75.0\n",
      "Задание 61: 8.333333333333332 / 91.66666666666667\n",
      "Задание 62: 25.0 / 75.0\n",
      "Задание 63: 0.0 / 100.0\n",
      "Задание 64: 41.66666666666667 / 58.33333333333333\n",
      "Задание 65: 16.666666666666664 / 83.33333333333334\n",
      "Задание 66: 8.333333333333332 / 91.66666666666667\n",
      "Задание 67: 16.666666666666664 / 83.33333333333334\n",
      "Задание 68: 33.33333333333333 / 66.66666666666667\n",
      "Задание 69: 25.0 / 75.0\n",
      "Задание 70: 50.0 / 50.0\n",
      "Задание 71: 33.33333333333333 / 66.66666666666667\n",
      "Задание 72: 33.33333333333333 / 66.66666666666667\n",
      "Задание 73: 16.666666666666664 / 83.33333333333334\n",
      "Задание 74: 25.0 / 75.0\n",
      "Задание 75: 50.0 / 50.0\n",
      "Задание 76: 25.0 / 75.0\n",
      "Задание 77: 50.0 / 50.0\n",
      "Задание 78: 41.66666666666667 / 58.33333333333333\n",
      "Задание 79: 58.333333333333336 / 41.666666666666664\n",
      "Задание 80: 50.0 / 50.0\n",
      "Задание 81: 33.33333333333333 / 66.66666666666667\n",
      "Задание 82: 41.66666666666667 / 58.33333333333333\n",
      "Задание 83: 50.0 / 50.0\n",
      "Задание 84: 33.33333333333333 / 66.66666666666667\n",
      "Задание 85: 16.666666666666664 / 83.33333333333334\n",
      "Задание 86: 33.33333333333333 / 66.66666666666667\n",
      "Задание 87: 75.0 / 25.0\n",
      "Задание 88: 41.66666666666667 / 58.33333333333333\n",
      "Задание 89: 58.333333333333336 / 41.666666666666664\n",
      "Задание 90: 41.66666666666667 / 58.33333333333333\n",
      "Задание 91: 41.66666666666667 / 58.33333333333333\n",
      "Задание 92: 50.0 / 50.0\n",
      "Задание 93: 66.66666666666666 / 33.33333333333334\n",
      "Задание 94: 41.66666666666667 / 58.33333333333333\n",
      "Задание 95: 33.33333333333333 / 66.66666666666667\n",
      "Задание 96: 75.0 / 25.0\n",
      "Задание 97: 41.66666666666667 / 58.33333333333333\n",
      "Задание 98: 58.333333333333336 / 41.666666666666664\n",
      "Задание 99: 66.66666666666666 / 33.33333333333334\n",
      "Задание 100: 41.66666666666667 / 58.33333333333333\n",
      "Задание 101: 66.66666666666666 / 33.33333333333334\n",
      "Задание 102: 66.66666666666666 / 33.33333333333334\n",
      "Задание 103: 41.66666666666667 / 58.33333333333333\n",
      "Задание 104: 83.33333333333334 / 16.666666666666657\n",
      "Задание 105: 50.0 / 50.0\n",
      "Задание 106: 41.66666666666667 / 58.33333333333333\n",
      "Задание 107: 41.66666666666667 / 58.33333333333333\n",
      "Задание 108: 50.0 / 50.0\n",
      "Задание 109: 50.0 / 50.0\n",
      "Задание 110: 58.333333333333336 / 41.666666666666664\n",
      "Задание 111: 58.333333333333336 / 41.666666666666664\n",
      "Задание 112: 58.333333333333336 / 41.666666666666664\n",
      "Задание 113: 50.0 / 50.0\n",
      "Задание 114: 58.333333333333336 / 41.666666666666664\n",
      "Задание 115: 41.66666666666667 / 58.33333333333333\n",
      "Задание 116: 75.0 / 25.0\n",
      "Задание 117: 66.66666666666666 / 33.33333333333334\n",
      "Задание 118: 66.66666666666666 / 33.33333333333334\n",
      "Задание 119: 66.66666666666666 / 33.33333333333334\n",
      "Задание 120: 83.33333333333334 / 16.666666666666657\n",
      "Задание 121: 83.33333333333334 / 16.666666666666657\n",
      "Задание 122: 58.333333333333336 / 41.666666666666664\n",
      "Задание 123: 75.0 / 25.0\n",
      "Задание 124: 50.0 / 50.0\n",
      "Задание 125: 83.33333333333334 / 16.666666666666657\n",
      "Задание 126: 75.0 / 25.0\n",
      "Задание 127: 66.66666666666666 / 33.33333333333334\n",
      "Задание 128: 75.0 / 25.0\n",
      "Задание 129: 91.66666666666666 / 8.333333333333343\n",
      "Задание 130: 75.0 / 25.0\n",
      "Задание 131: 83.33333333333334 / 16.666666666666657\n",
      "Задание 132: 83.33333333333334 / 16.666666666666657\n",
      "Задание 133: 75.0 / 25.0\n",
      "Задание 134: 66.66666666666666 / 33.33333333333334\n",
      "Задание 135: 91.66666666666666 / 8.333333333333343\n",
      "Задание 136: 83.33333333333334 / 16.666666666666657\n",
      "Задание 137: 100.0 / 0.0\n",
      "Задание 138: 91.66666666666666 / 8.333333333333343\n",
      "Задание 139: 100.0 / 0.0\n",
      "Задание 140: 100.0 / 0.0\n",
      "Задание 141: 100.0 / 0.0\n"
     ]
    },
    {
     "ename": "AttributeError",
     "evalue": "'float' object has no attribute 'count'",
     "output_type": "error",
     "traceback": [
      "\u001B[1;31m---------------------------------------------------------------------------\u001B[0m",
      "\u001B[1;31mAttributeError\u001B[0m                            Traceback (most recent call last)",
      "Cell \u001B[1;32mIn[147], line 5\u001B[0m\n\u001B[0;32m      3\u001B[0m \u001B[38;5;28;01mfor\u001B[39;00m c \u001B[38;5;129;01min\u001B[39;00m var_4[\u001B[38;5;124m'\u001B[39m\u001B[38;5;124mЗадания с развёрнутым ответом\u001B[39m\u001B[38;5;124m'\u001B[39m]:\n\u001B[0;32m      4\u001B[0m         counting \u001B[38;5;241m+\u001B[39m\u001B[38;5;241m=\u001B[39m \u001B[38;5;241m1\u001B[39m\n\u001B[1;32m----> 5\u001B[0m         c0, c1, c2, c3, c4 \u001B[38;5;241m=\u001B[39m \u001B[43mc\u001B[49m\u001B[38;5;241;43m.\u001B[39;49m\u001B[43mcount\u001B[49m(\u001B[38;5;124m'\u001B[39m\u001B[38;5;124m0\u001B[39m\u001B[38;5;124m'\u001B[39m), c\u001B[38;5;241m.\u001B[39mcount(\u001B[38;5;124m'\u001B[39m\u001B[38;5;124m1\u001B[39m\u001B[38;5;124m'\u001B[39m), c\u001B[38;5;241m.\u001B[39mcount(\u001B[38;5;124m'\u001B[39m\u001B[38;5;124m2\u001B[39m\u001B[38;5;124m'\u001B[39m), c\u001B[38;5;241m.\u001B[39mcount(\u001B[38;5;124m'\u001B[39m\u001B[38;5;124m3\u001B[39m\u001B[38;5;124m'\u001B[39m), c\u001B[38;5;241m.\u001B[39mcount(\u001B[38;5;124m'\u001B[39m\u001B[38;5;124m4\u001B[39m\u001B[38;5;124m'\u001B[39m)\n\u001B[0;32m      6\u001B[0m         \u001B[38;5;28;01mif\u001B[39;00m c0 \u001B[38;5;241m==\u001B[39m \u001B[38;5;241m4\u001B[39m:\n\u001B[0;32m      7\u001B[0m                 ans \u001B[38;5;241m=\u001B[39m \u001B[38;5;241m0\u001B[39m\u001B[38;5;241m/\u001B[39m\u001B[38;5;241m12\u001B[39m\u001B[38;5;241m*\u001B[39m\u001B[38;5;241m100\u001B[39m\n",
      "\u001B[1;31mAttributeError\u001B[0m: 'float' object has no attribute 'count'"
     ]
    }
   ],
   "source": [
    "counting = 0\n",
    "print('Процент выполненных и невыполненных заданий по каждому вопросу типа С:')\n",
    "for c in var_4['Задания с развёрнутым ответом']:\n",
    "        counting += 1\n",
    "        c0, c1, c2, c3, c4 = c.count('0'), c.count('1'), c.count('2'), c.count('3'), c.count('4')\n",
    "        if c0 == 4:\n",
    "                ans = 0/12*100\n",
    "                anti_ans = 100-ans\n",
    "        else:\n",
    "                sum_ball =  c1*1 + (c2-1)*2 + (c3-2)*3 + (c4-1)*4\n",
    "                ans = sum_ball/12*100\n",
    "                anti_ans = 100-ans\n",
    "\n",
    "        print(f'Задание {counting}: {ans} / {anti_ans}')\n"
   ],
   "metadata": {
    "collapsed": false
   }
  },
  {
   "cell_type": "code",
   "execution_count": 132,
   "outputs": [
    {
     "data": {
      "text/plain": "1      № № школы Класс  Пол Номер варианта Задания с кратким ответом  \\\n2      1     148    13    М            505   -----------------------   \n3      2     147    11    М            328   -----------------------   \n4      3     111    11    М            330   ---+---+-+-------------   \n5      4     140    11    М            328   ---+---------++--------   \n6      5     148    11    М            328   ----+---------+-----+--   \n..   ...     ...   ...  ...            ...                       ...   \n139  138     147    11    М            333   +++++++++++++++++++++++   \n140  139     140    11    М            329   +++++++++++++++++++-+++   \n141  140     148    11    Ж            332   -++++++++++++++++++++++   \n142  141     148    11    М            329   +++++++++++++++++++++++   \n143  NaN     NaN   NaN  NaN            NaN                       NaN   \n\n1   Задания с развёрнутым ответом      Устная часть Первичный балл       Балл  \\\n2                0(3)0(2)0(3)0(4)               NaN              0          0   \n3                0(3)0(2)0(3)0(4)               NaN              0          0   \n4                0(3)0(2)0(3)0(4)               NaN              3         20   \n5                0(3)0(2)0(3)0(4)               NaN              3         20   \n6                0(3)0(2)0(3)0(4)               NaN              3         20   \n..                            ...               ...            ...        ...   \n139              3(3)2(2)2(3)4(4)               NaN             34         97   \n140              3(3)2(2)3(3)4(4)               NaN             34         97   \n141              3(3)2(2)3(3)4(4)               NaN             34         97   \n142              3(3)2(2)3(3)4(4)               NaN             35        100   \n143                           NaN  Среднее значение            NaN  60.780142   \n\n1   Минимальный балл  \n2                 40  \n3                 40  \n4                 40  \n5                 40  \n6                 40  \n..               ...  \n139               40  \n140               40  \n141               40  \n142               40  \n143              NaN  \n\n[142 rows x 11 columns]",
      "text/html": "<div>\n<style scoped>\n    .dataframe tbody tr th:only-of-type {\n        vertical-align: middle;\n    }\n\n    .dataframe tbody tr th {\n        vertical-align: top;\n    }\n\n    .dataframe thead th {\n        text-align: right;\n    }\n</style>\n<table border=\"1\" class=\"dataframe\">\n  <thead>\n    <tr style=\"text-align: right;\">\n      <th>1</th>\n      <th>№</th>\n      <th>№ школы</th>\n      <th>Класс</th>\n      <th>Пол</th>\n      <th>Номер варианта</th>\n      <th>Задания с кратким ответом</th>\n      <th>Задания с развёрнутым ответом</th>\n      <th>Устная часть</th>\n      <th>Первичный балл</th>\n      <th>Балл</th>\n      <th>Минимальный балл</th>\n    </tr>\n  </thead>\n  <tbody>\n    <tr>\n      <th>2</th>\n      <td>1</td>\n      <td>148</td>\n      <td>13</td>\n      <td>М</td>\n      <td>505</td>\n      <td>-----------------------</td>\n      <td>0(3)0(2)0(3)0(4)</td>\n      <td>NaN</td>\n      <td>0</td>\n      <td>0</td>\n      <td>40</td>\n    </tr>\n    <tr>\n      <th>3</th>\n      <td>2</td>\n      <td>147</td>\n      <td>11</td>\n      <td>М</td>\n      <td>328</td>\n      <td>-----------------------</td>\n      <td>0(3)0(2)0(3)0(4)</td>\n      <td>NaN</td>\n      <td>0</td>\n      <td>0</td>\n      <td>40</td>\n    </tr>\n    <tr>\n      <th>4</th>\n      <td>3</td>\n      <td>111</td>\n      <td>11</td>\n      <td>М</td>\n      <td>330</td>\n      <td>---+---+-+-------------</td>\n      <td>0(3)0(2)0(3)0(4)</td>\n      <td>NaN</td>\n      <td>3</td>\n      <td>20</td>\n      <td>40</td>\n    </tr>\n    <tr>\n      <th>5</th>\n      <td>4</td>\n      <td>140</td>\n      <td>11</td>\n      <td>М</td>\n      <td>328</td>\n      <td>---+---------++--------</td>\n      <td>0(3)0(2)0(3)0(4)</td>\n      <td>NaN</td>\n      <td>3</td>\n      <td>20</td>\n      <td>40</td>\n    </tr>\n    <tr>\n      <th>6</th>\n      <td>5</td>\n      <td>148</td>\n      <td>11</td>\n      <td>М</td>\n      <td>328</td>\n      <td>----+---------+-----+--</td>\n      <td>0(3)0(2)0(3)0(4)</td>\n      <td>NaN</td>\n      <td>3</td>\n      <td>20</td>\n      <td>40</td>\n    </tr>\n    <tr>\n      <th>...</th>\n      <td>...</td>\n      <td>...</td>\n      <td>...</td>\n      <td>...</td>\n      <td>...</td>\n      <td>...</td>\n      <td>...</td>\n      <td>...</td>\n      <td>...</td>\n      <td>...</td>\n      <td>...</td>\n    </tr>\n    <tr>\n      <th>139</th>\n      <td>138</td>\n      <td>147</td>\n      <td>11</td>\n      <td>М</td>\n      <td>333</td>\n      <td>+++++++++++++++++++++++</td>\n      <td>3(3)2(2)2(3)4(4)</td>\n      <td>NaN</td>\n      <td>34</td>\n      <td>97</td>\n      <td>40</td>\n    </tr>\n    <tr>\n      <th>140</th>\n      <td>139</td>\n      <td>140</td>\n      <td>11</td>\n      <td>М</td>\n      <td>329</td>\n      <td>+++++++++++++++++++-+++</td>\n      <td>3(3)2(2)3(3)4(4)</td>\n      <td>NaN</td>\n      <td>34</td>\n      <td>97</td>\n      <td>40</td>\n    </tr>\n    <tr>\n      <th>141</th>\n      <td>140</td>\n      <td>148</td>\n      <td>11</td>\n      <td>Ж</td>\n      <td>332</td>\n      <td>-++++++++++++++++++++++</td>\n      <td>3(3)2(2)3(3)4(4)</td>\n      <td>NaN</td>\n      <td>34</td>\n      <td>97</td>\n      <td>40</td>\n    </tr>\n    <tr>\n      <th>142</th>\n      <td>141</td>\n      <td>148</td>\n      <td>11</td>\n      <td>М</td>\n      <td>329</td>\n      <td>+++++++++++++++++++++++</td>\n      <td>3(3)2(2)3(3)4(4)</td>\n      <td>NaN</td>\n      <td>35</td>\n      <td>100</td>\n      <td>40</td>\n    </tr>\n    <tr>\n      <th>143</th>\n      <td>NaN</td>\n      <td>NaN</td>\n      <td>NaN</td>\n      <td>NaN</td>\n      <td>NaN</td>\n      <td>NaN</td>\n      <td>NaN</td>\n      <td>Среднее значение</td>\n      <td>NaN</td>\n      <td>60.780142</td>\n      <td>NaN</td>\n    </tr>\n  </tbody>\n</table>\n<p>142 rows × 11 columns</p>\n</div>"
     },
     "execution_count": 132,
     "metadata": {},
     "output_type": "execute_result"
    }
   ],
   "source": [
    "var_4"
   ],
   "metadata": {
    "collapsed": false
   }
  },
  {
   "cell_type": "markdown",
   "source": [],
   "metadata": {
    "collapsed": false
   }
  }
 ],
 "metadata": {
  "kernelspec": {
   "name": "python3",
   "language": "python",
   "display_name": "Python 3 (ipykernel)"
  },
  "language_info": {
   "codemirror_mode": {
    "name": "ipython",
    "version": 2
   },
   "file_extension": ".py",
   "mimetype": "text/x-python",
   "name": "python",
   "nbconvert_exporter": "python",
   "pygments_lexer": "ipython2",
   "version": "2.7.6"
  }
 },
 "nbformat": 4,
 "nbformat_minor": 0
}