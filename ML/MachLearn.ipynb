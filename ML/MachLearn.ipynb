{
 "cells": [
  {
   "cell_type": "code",
   "execution_count": null,
   "outputs": [],
   "source": [
    "import numpy as np\n",
    "import pandas as pd"
   ],
   "metadata": {
    "collapsed": false,
    "pycharm": {
     "is_executing": true
    }
   }
  },
  {
   "cell_type": "markdown",
   "source": [
    "1. С помощью массивов numpy создайте таблицу умножения."
   ],
   "metadata": {
    "collapsed": false
   }
  },
  {
   "cell_type": "code",
   "execution_count": 3,
   "outputs": [
    {
     "name": "stdout",
     "output_type": "stream",
     "text": [
      "[[ 1  2  3  4  5]\n",
      " [ 2  4  6  8 10]\n",
      " [ 3  6  9 12 15]\n",
      " [ 4  8 12 16 20]\n",
      " [ 5 10 15 20 25]]\n"
     ]
    }
   ],
   "source": [
    "a = input()\n",
    "def create_multiplication_table(n):\n",
    "    m1 = np.arange(1, int(n)+1)\n",
    "    m2 = np.reshape(m1, (int(n), 1))\n",
    "    inter = m1 * m2\n",
    "    return inter\n",
    "\n",
    "table = create_multiplication_table(a)\n",
    "print(table)"
   ],
   "metadata": {
    "collapsed": false
   }
  },
  {
   "cell_type": "markdown",
   "source": [
    "2. Создайте функцию, которая принимает как аргументы целое число N и первый элемент (вещественное число), и разность (вещественное число) и создает матрицу numpy по диагонали, которой располагаются первые N членов арифметической прогрессии."
   ],
   "metadata": {
    "collapsed": false
   }
  },
  {
   "cell_type": "code",
   "execution_count": 4,
   "outputs": [
    {
     "name": "stdout",
     "output_type": "stream",
     "text": [
      "[[1.  0.  0.  0.  0.  0.  0.  0.  0.  0. ]\n",
      " [0.  1.1 0.  0.  0.  0.  0.  0.  0.  0. ]\n",
      " [0.  0.  1.2 0.  0.  0.  0.  0.  0.  0. ]\n",
      " [0.  0.  0.  1.3 0.  0.  0.  0.  0.  0. ]\n",
      " [0.  0.  0.  0.  1.4 0.  0.  0.  0.  0. ]\n",
      " [0.  0.  0.  0.  0.  1.5 0.  0.  0.  0. ]\n",
      " [0.  0.  0.  0.  0.  0.  1.6 0.  0.  0. ]\n",
      " [0.  0.  0.  0.  0.  0.  0.  1.7 0.  0. ]\n",
      " [0.  0.  0.  0.  0.  0.  0.  0.  1.8 0. ]\n",
      " [0.  0.  0.  0.  0.  0.  0.  0.  0.  1.9]]\n"
     ]
    }
   ],
   "source": [
    "def create_arithmetic_progression(n, start, step):\n",
    "    progression = np.arange(start, start + n * step, step)\n",
    "    return np.diag(progression)\n",
    "\n",
    "matrix = create_arithmetic_progression(10, 1, 0.1)\n",
    "print(matrix)"
   ],
   "metadata": {
    "collapsed": false
   }
  },
  {
   "cell_type": "markdown",
   "source": [
    "3. Сгенерируйте средствами numpy матрицу А 5 на 5, содержащую последовательные числа от 1 до 25. Используя срезы извлеките в плоский массив все нечетные элементы этой матрицы."
   ],
   "metadata": {
    "collapsed": false
   }
  },
  {
   "cell_type": "code",
   "execution_count": 5,
   "outputs": [
    {
     "name": "stdout",
     "output_type": "stream",
     "text": [
      "[[ 1  2  3  4  5]\n",
      " [ 6  7  8  9 10]\n",
      " [11 12 13 14 15]\n",
      " [16 17 18 19 20]\n",
      " [21 22 23 24 25]]\n",
      "[ 1  3  5  7  9 11 13 15 17 19 21 23 25]\n"
     ]
    }
   ],
   "source": [
    "A = np.arange(1, 26).reshape(5, 5)\n",
    "flat_odds = A[A % 2 == 1]\n",
    "\n",
    "print(A)\n",
    "print(flat_odds)"
   ],
   "metadata": {
    "collapsed": false
   }
  },
  {
   "cell_type": "markdown",
   "source": [
    "4. Создайте двумерный массив, содержащий единицы на границе и нули внутри."
   ],
   "metadata": {
    "collapsed": false
   }
  },
  {
   "cell_type": "code",
   "execution_count": 6,
   "outputs": [
    {
     "name": "stdout",
     "output_type": "stream",
     "text": [
      "[[1 1 1 1 1]\n",
      " [1 0 0 0 1]\n",
      " [1 0 0 0 1]\n",
      " [1 0 0 0 1]\n",
      " [1 1 1 1 1]]\n"
     ]
    }
   ],
   "source": [
    "ones = np.ones((5, 5), dtype=int)\n",
    "ones[1:-1, 1:-1] = 0\n",
    "\n",
    "print(ones)"
   ],
   "metadata": {
    "collapsed": false
   }
  },
  {
   "cell_type": "markdown",
   "source": [
    "5. Создайте две матрицы размером (5,5). Одна матрица содержит 5 в шахматном порядке как в задаче домашнего задания, другая имеет треугольную форму содержащую 5 на основной диагонали и в позициях выше ее, а ниже все 0. Посчитайте их детерминант и найдите обратные матрицы."
   ],
   "metadata": {
    "collapsed": false
   }
  },
  {
   "cell_type": "code",
   "execution_count": 44,
   "outputs": [
    {
     "name": "stdout",
     "output_type": "stream",
     "text": [
      "[[5. 0. 5. 0. 5.]\n",
      " [0. 5. 0. 5. 0.]\n",
      " [5. 0. 5. 0. 5.]\n",
      " [0. 5. 0. 5. 0.]\n",
      " [5. 0. 5. 0. 5.]] \n",
      " 0.0\n",
      "[[5 5 5 5 5]\n",
      " [0 5 5 5 5]\n",
      " [0 0 5 5 5]\n",
      " [0 0 0 5 5]\n",
      " [0 0 0 0 5]] 3124.999999999999 \n",
      "\n",
      " [[ 0.2 -0.2  0.   0.   0. ]\n",
      " [ 0.   0.2 -0.2  0.   0. ]\n",
      " [ 0.   0.   0.2 -0.2  0. ]\n",
      " [ 0.   0.   0.   0.2 -0.2]\n",
      " [ 0.   0.   0.   0.   0.2]]\n"
     ]
    }
   ],
   "source": [
    "# матрица с 5 в шахматном порядке\n",
    "chess_matrix = np.zeros((5, 5))\n",
    "chess_matrix[::2, ::2] = 5\n",
    "chess_matrix[1::2, 1::2] = 5\n",
    "\n",
    "# треугольная матрица с 5 на основной диагонали\n",
    "triangular_matrix = np.zeros((5, 5), dtype = int)\n",
    "for i in range(5):\n",
    "    for j in range(i+1):\n",
    "        triangular_matrix[j][i] = 5\n",
    "\n",
    "# детерминанты матриц\n",
    "chess_det = np.linalg.det(chess_matrix)\n",
    "triangular_det = np.linalg.det(triangular_matrix)\n",
    "\n",
    "# # обратные матрицы\n",
    "# chess_inv = np.linalg.inv(chess_matrix)\n",
    "triangular_inv = np.linalg.inv(triangular_matrix)\n",
    "\n",
    "print(chess_matrix, \"\\n\",chess_det)\n",
    "print(triangular_matrix, triangular_det,'\\n\\n', triangular_inv)"
   ],
   "metadata": {
    "collapsed": false
   }
  },
  {
   "cell_type": "markdown",
   "source": [
    "6. С помощью pandas загрузите датасет для предсказания цены квартиры, прилагающийся к этой работе."
   ],
   "metadata": {
    "collapsed": false
   }
  },
  {
   "cell_type": "code",
   "execution_count": 11,
   "id": "94722910",
   "metadata": {},
   "outputs": [
    {
     "data": {
      "text/plain": "         Id  DistrictId  Rooms      Square  LifeSquare  KitchenSquare  Floor  \\\n0     11809          27    3.0  115.027311         NaN           10.0      4   \n1      3013          22    1.0   39.832524   23.169223            8.0      7   \n2      8215           1    3.0   78.342215   47.671972           10.0      2   \n3      2352           1    1.0   40.409907         NaN            1.0     10   \n4     13866          94    2.0   64.285067   38.562517            9.0     16   \n...     ...         ...    ...         ...         ...            ...    ...   \n9995   1260          61    2.0   49.090728   33.272626            6.0      3   \n9996  16265          27    2.0   64.307684   37.038420            9.0     13   \n9997   2795         178    1.0   29.648057   16.555363            5.0      3   \n9998  14561          21    1.0   32.330292   22.326870            5.0      3   \n9999   7202          94    1.0   35.815476   22.301367            6.0      9   \n\n      HouseFloor  HouseYear  Ecology_1 Ecology_2 Ecology_3  Social_1  \\\n0           10.0       2014   0.075424         B         B        11   \n1            8.0       1966   0.118537         B         B        30   \n2           17.0       1988   0.025609         B         B        33   \n3           22.0       1977   0.007122         B         B         1   \n4           16.0       1972   0.282798         B         B        33   \n...          ...        ...        ...       ...       ...       ...   \n9995        12.0       1981   0.300323         B         B        52   \n9996         0.0       1977   0.072158         B         B         2   \n9997         5.0       1958   0.460556         B         B        20   \n9998         9.0       1969   0.194489         B         B        47   \n9999         9.0       1975   0.127376         B         B        43   \n\n      Social_2  Social_3  Healthcare_1  Helthcare_2  Shops_1 Shops_2  \\\n0         3097         0           NaN            0        0       B   \n1         6207         1        1183.0            1        0       B   \n2         5261         0         240.0            3        1       B   \n3          264         0           NaN            0        1       B   \n4         8667         2           NaN            0        6       B   \n...        ...       ...           ...          ...      ...     ...   \n9995     10311         6           NaN            1        9       B   \n9996       629         1           NaN            0        0       A   \n9997      4386        14           NaN            1        5       B   \n9998      8004         3         125.0            3        5       B   \n9999      8429         3           NaN            3        9       B   \n\n              Price  \n0     305018.871089  \n1     177734.553407  \n2     282078.720850  \n3     168106.007630  \n4     343995.102962  \n...             ...  \n9995  119367.455796  \n9996  199715.148807  \n9997  165953.912580  \n9998  171842.411855  \n9999  177685.627486  \n\n[10000 rows x 20 columns]",
      "text/html": "<div>\n<style scoped>\n    .dataframe tbody tr th:only-of-type {\n        vertical-align: middle;\n    }\n\n    .dataframe tbody tr th {\n        vertical-align: top;\n    }\n\n    .dataframe thead th {\n        text-align: right;\n    }\n</style>\n<table border=\"1\" class=\"dataframe\">\n  <thead>\n    <tr style=\"text-align: right;\">\n      <th></th>\n      <th>Id</th>\n      <th>DistrictId</th>\n      <th>Rooms</th>\n      <th>Square</th>\n      <th>LifeSquare</th>\n      <th>KitchenSquare</th>\n      <th>Floor</th>\n      <th>HouseFloor</th>\n      <th>HouseYear</th>\n      <th>Ecology_1</th>\n      <th>Ecology_2</th>\n      <th>Ecology_3</th>\n      <th>Social_1</th>\n      <th>Social_2</th>\n      <th>Social_3</th>\n      <th>Healthcare_1</th>\n      <th>Helthcare_2</th>\n      <th>Shops_1</th>\n      <th>Shops_2</th>\n      <th>Price</th>\n    </tr>\n  </thead>\n  <tbody>\n    <tr>\n      <th>0</th>\n      <td>11809</td>\n      <td>27</td>\n      <td>3.0</td>\n      <td>115.027311</td>\n      <td>NaN</td>\n      <td>10.0</td>\n      <td>4</td>\n      <td>10.0</td>\n      <td>2014</td>\n      <td>0.075424</td>\n      <td>B</td>\n      <td>B</td>\n      <td>11</td>\n      <td>3097</td>\n      <td>0</td>\n      <td>NaN</td>\n      <td>0</td>\n      <td>0</td>\n      <td>B</td>\n      <td>305018.871089</td>\n    </tr>\n    <tr>\n      <th>1</th>\n      <td>3013</td>\n      <td>22</td>\n      <td>1.0</td>\n      <td>39.832524</td>\n      <td>23.169223</td>\n      <td>8.0</td>\n      <td>7</td>\n      <td>8.0</td>\n      <td>1966</td>\n      <td>0.118537</td>\n      <td>B</td>\n      <td>B</td>\n      <td>30</td>\n      <td>6207</td>\n      <td>1</td>\n      <td>1183.0</td>\n      <td>1</td>\n      <td>0</td>\n      <td>B</td>\n      <td>177734.553407</td>\n    </tr>\n    <tr>\n      <th>2</th>\n      <td>8215</td>\n      <td>1</td>\n      <td>3.0</td>\n      <td>78.342215</td>\n      <td>47.671972</td>\n      <td>10.0</td>\n      <td>2</td>\n      <td>17.0</td>\n      <td>1988</td>\n      <td>0.025609</td>\n      <td>B</td>\n      <td>B</td>\n      <td>33</td>\n      <td>5261</td>\n      <td>0</td>\n      <td>240.0</td>\n      <td>3</td>\n      <td>1</td>\n      <td>B</td>\n      <td>282078.720850</td>\n    </tr>\n    <tr>\n      <th>3</th>\n      <td>2352</td>\n      <td>1</td>\n      <td>1.0</td>\n      <td>40.409907</td>\n      <td>NaN</td>\n      <td>1.0</td>\n      <td>10</td>\n      <td>22.0</td>\n      <td>1977</td>\n      <td>0.007122</td>\n      <td>B</td>\n      <td>B</td>\n      <td>1</td>\n      <td>264</td>\n      <td>0</td>\n      <td>NaN</td>\n      <td>0</td>\n      <td>1</td>\n      <td>B</td>\n      <td>168106.007630</td>\n    </tr>\n    <tr>\n      <th>4</th>\n      <td>13866</td>\n      <td>94</td>\n      <td>2.0</td>\n      <td>64.285067</td>\n      <td>38.562517</td>\n      <td>9.0</td>\n      <td>16</td>\n      <td>16.0</td>\n      <td>1972</td>\n      <td>0.282798</td>\n      <td>B</td>\n      <td>B</td>\n      <td>33</td>\n      <td>8667</td>\n      <td>2</td>\n      <td>NaN</td>\n      <td>0</td>\n      <td>6</td>\n      <td>B</td>\n      <td>343995.102962</td>\n    </tr>\n    <tr>\n      <th>...</th>\n      <td>...</td>\n      <td>...</td>\n      <td>...</td>\n      <td>...</td>\n      <td>...</td>\n      <td>...</td>\n      <td>...</td>\n      <td>...</td>\n      <td>...</td>\n      <td>...</td>\n      <td>...</td>\n      <td>...</td>\n      <td>...</td>\n      <td>...</td>\n      <td>...</td>\n      <td>...</td>\n      <td>...</td>\n      <td>...</td>\n      <td>...</td>\n      <td>...</td>\n    </tr>\n    <tr>\n      <th>9995</th>\n      <td>1260</td>\n      <td>61</td>\n      <td>2.0</td>\n      <td>49.090728</td>\n      <td>33.272626</td>\n      <td>6.0</td>\n      <td>3</td>\n      <td>12.0</td>\n      <td>1981</td>\n      <td>0.300323</td>\n      <td>B</td>\n      <td>B</td>\n      <td>52</td>\n      <td>10311</td>\n      <td>6</td>\n      <td>NaN</td>\n      <td>1</td>\n      <td>9</td>\n      <td>B</td>\n      <td>119367.455796</td>\n    </tr>\n    <tr>\n      <th>9996</th>\n      <td>16265</td>\n      <td>27</td>\n      <td>2.0</td>\n      <td>64.307684</td>\n      <td>37.038420</td>\n      <td>9.0</td>\n      <td>13</td>\n      <td>0.0</td>\n      <td>1977</td>\n      <td>0.072158</td>\n      <td>B</td>\n      <td>B</td>\n      <td>2</td>\n      <td>629</td>\n      <td>1</td>\n      <td>NaN</td>\n      <td>0</td>\n      <td>0</td>\n      <td>A</td>\n      <td>199715.148807</td>\n    </tr>\n    <tr>\n      <th>9997</th>\n      <td>2795</td>\n      <td>178</td>\n      <td>1.0</td>\n      <td>29.648057</td>\n      <td>16.555363</td>\n      <td>5.0</td>\n      <td>3</td>\n      <td>5.0</td>\n      <td>1958</td>\n      <td>0.460556</td>\n      <td>B</td>\n      <td>B</td>\n      <td>20</td>\n      <td>4386</td>\n      <td>14</td>\n      <td>NaN</td>\n      <td>1</td>\n      <td>5</td>\n      <td>B</td>\n      <td>165953.912580</td>\n    </tr>\n    <tr>\n      <th>9998</th>\n      <td>14561</td>\n      <td>21</td>\n      <td>1.0</td>\n      <td>32.330292</td>\n      <td>22.326870</td>\n      <td>5.0</td>\n      <td>3</td>\n      <td>9.0</td>\n      <td>1969</td>\n      <td>0.194489</td>\n      <td>B</td>\n      <td>B</td>\n      <td>47</td>\n      <td>8004</td>\n      <td>3</td>\n      <td>125.0</td>\n      <td>3</td>\n      <td>5</td>\n      <td>B</td>\n      <td>171842.411855</td>\n    </tr>\n    <tr>\n      <th>9999</th>\n      <td>7202</td>\n      <td>94</td>\n      <td>1.0</td>\n      <td>35.815476</td>\n      <td>22.301367</td>\n      <td>6.0</td>\n      <td>9</td>\n      <td>9.0</td>\n      <td>1975</td>\n      <td>0.127376</td>\n      <td>B</td>\n      <td>B</td>\n      <td>43</td>\n      <td>8429</td>\n      <td>3</td>\n      <td>NaN</td>\n      <td>3</td>\n      <td>9</td>\n      <td>B</td>\n      <td>177685.627486</td>\n    </tr>\n  </tbody>\n</table>\n<p>10000 rows × 20 columns</p>\n</div>"
     },
     "execution_count": 11,
     "metadata": {},
     "output_type": "execute_result"
    }
   ],
   "source": [
    "data = pd.read_csv('data.csv')\n",
    "data"
   ]
  },
  {
   "cell_type": "markdown",
   "id": "720b7ec0",
   "metadata": {},
   "source": [
    "7. Выведите на экран несколько первых и несколько последний строк файла."
   ]
  },
  {
   "cell_type": "code",
   "execution_count": 6,
   "id": "1b5db871",
   "metadata": {
    "scrolled": false
   },
   "outputs": [
    {
     "name": "stdout",
     "output_type": "stream",
     "text": [
      "      Id  DistrictId  Rooms      Square  LifeSquare  KitchenSquare  Floor  \\\n",
      "0  11809          27    3.0  115.027311         NaN           10.0      4   \n",
      "1   3013          22    1.0   39.832524   23.169223            8.0      7   \n",
      "2   8215           1    3.0   78.342215   47.671972           10.0      2   \n",
      "3   2352           1    1.0   40.409907         NaN            1.0     10   \n",
      "4  13866          94    2.0   64.285067   38.562517            9.0     16   \n",
      "\n",
      "   HouseFloor  HouseYear  Ecology_1 Ecology_2 Ecology_3  Social_1  Social_2  \\\n",
      "0        10.0       2014   0.075424         B         B        11      3097   \n",
      "1         8.0       1966   0.118537         B         B        30      6207   \n",
      "2        17.0       1988   0.025609         B         B        33      5261   \n",
      "3        22.0       1977   0.007122         B         B         1       264   \n",
      "4        16.0       1972   0.282798         B         B        33      8667   \n",
      "\n",
      "   Social_3  Healthcare_1  Helthcare_2  Shops_1 Shops_2          Price  \n",
      "0         0           NaN            0        0       B  305018.871089  \n",
      "1         1        1183.0            1        0       B  177734.553407  \n",
      "2         0         240.0            3        1       B  282078.720850  \n",
      "3         0           NaN            0        1       B  168106.007630  \n",
      "4         2           NaN            0        6       B  343995.102962  \n",
      "\n",
      "\n",
      "\n",
      "\n",
      "         Id  DistrictId  Rooms     Square  LifeSquare  KitchenSquare  Floor  \\\n",
      "9995   1260          61    2.0  49.090728   33.272626            6.0      3   \n",
      "9996  16265          27    2.0  64.307684   37.038420            9.0     13   \n",
      "9997   2795         178    1.0  29.648057   16.555363            5.0      3   \n",
      "9998  14561          21    1.0  32.330292   22.326870            5.0      3   \n",
      "9999   7202          94    1.0  35.815476   22.301367            6.0      9   \n",
      "\n",
      "      HouseFloor  HouseYear  Ecology_1 Ecology_2 Ecology_3  Social_1  \\\n",
      "9995        12.0       1981   0.300323         B         B        52   \n",
      "9996         0.0       1977   0.072158         B         B         2   \n",
      "9997         5.0       1958   0.460556         B         B        20   \n",
      "9998         9.0       1969   0.194489         B         B        47   \n",
      "9999         9.0       1975   0.127376         B         B        43   \n",
      "\n",
      "      Social_2  Social_3  Healthcare_1  Helthcare_2  Shops_1 Shops_2  \\\n",
      "9995     10311         6           NaN            1        9       B   \n",
      "9996       629         1           NaN            0        0       A   \n",
      "9997      4386        14           NaN            1        5       B   \n",
      "9998      8004         3         125.0            3        5       B   \n",
      "9999      8429         3           NaN            3        9       B   \n",
      "\n",
      "              Price  \n",
      "9995  119367.455796  \n",
      "9996  199715.148807  \n",
      "9997  165953.912580  \n",
      "9998  171842.411855  \n",
      "9999  177685.627486  \n"
     ]
    }
   ],
   "source": [
    "# вывод первых 5 строк\n",
    "print(data.head(5))\n",
    "print(\"\\n\\n\\n\")\n",
    "# вывод последних 5 строк\n",
    "print(data.tail())"
   ]
  },
  {
   "cell_type": "markdown",
   "id": "83be69c2",
   "metadata": {},
   "source": [
    "8. Выведите с помощью методов pandas основные количественные параметры датасета: количество строк и столбцов, тип данных каждого поля, количество значений в каждом столбце, шкала измерения каждого численного поля."
   ]
  },
  {
   "cell_type": "code",
   "execution_count": 7,
   "id": "dc8179e3",
   "metadata": {
    "scrolled": false
   },
   "outputs": [
    {
     "name": "stdout",
     "output_type": "stream",
     "text": [
      "<class 'pandas.core.frame.DataFrame'>\n",
      "RangeIndex: 10000 entries, 0 to 9999\n",
      "Data columns (total 20 columns):\n",
      " #   Column         Non-Null Count  Dtype  \n",
      "---  ------         --------------  -----  \n",
      " 0   Id             10000 non-null  int64  \n",
      " 1   DistrictId     10000 non-null  int64  \n",
      " 2   Rooms          10000 non-null  float64\n",
      " 3   Square         10000 non-null  float64\n",
      " 4   LifeSquare     7887 non-null   float64\n",
      " 5   KitchenSquare  10000 non-null  float64\n",
      " 6   Floor          10000 non-null  int64  \n",
      " 7   HouseFloor     10000 non-null  float64\n",
      " 8   HouseYear      10000 non-null  int64  \n",
      " 9   Ecology_1      10000 non-null  float64\n",
      " 10  Ecology_2      10000 non-null  object \n",
      " 11  Ecology_3      10000 non-null  object \n",
      " 12  Social_1       10000 non-null  int64  \n",
      " 13  Social_2       10000 non-null  int64  \n",
      " 14  Social_3       10000 non-null  int64  \n",
      " 15  Healthcare_1   5202 non-null   float64\n",
      " 16  Helthcare_2    10000 non-null  int64  \n",
      " 17  Shops_1        10000 non-null  int64  \n",
      " 18  Shops_2        10000 non-null  object \n",
      " 19  Price          10000 non-null  float64\n",
      "dtypes: float64(8), int64(9), object(3)\n",
      "memory usage: 1.5+ MB\n",
      "None\n",
      "                Id    DistrictId         Rooms        Square   LifeSquare  \\\n",
      "count  10000.00000  10000.000000  10000.000000  10000.000000  7887.000000   \n",
      "mean    8383.40770     50.400800      1.890500     56.315775    37.199645   \n",
      "std     4859.01902     43.587592      0.839512     21.058732    86.241209   \n",
      "min        0.00000      0.000000      0.000000      1.136859     0.370619   \n",
      "25%     4169.50000     20.000000      1.000000     41.774881    22.769832   \n",
      "50%     8394.50000     36.000000      2.000000     52.513310    32.781260   \n",
      "75%    12592.50000     75.000000      2.000000     65.900625    45.128803   \n",
      "max    16798.00000    209.000000     19.000000    641.065193  7480.592129   \n",
      "\n",
      "       KitchenSquare         Floor    HouseFloor     HouseYear     Ecology_1  \\\n",
      "count   10000.000000  10000.000000  10000.000000  1.000000e+04  10000.000000   \n",
      "mean        6.273300      8.526700     12.609400  3.990166e+03      0.118858   \n",
      "std        28.560917      5.241148      6.775974  2.005003e+05      0.119025   \n",
      "min         0.000000      1.000000      0.000000  1.910000e+03      0.000000   \n",
      "25%         1.000000      4.000000      9.000000  1.974000e+03      0.017647   \n",
      "50%         6.000000      7.000000     13.000000  1.977000e+03      0.075424   \n",
      "75%         9.000000     12.000000     17.000000  2.001000e+03      0.195781   \n",
      "max      2014.000000     42.000000    117.000000  2.005201e+07      0.521867   \n",
      "\n",
      "           Social_1      Social_2      Social_3  Healthcare_1   Helthcare_2  \\\n",
      "count  10000.000000  10000.000000  10000.000000   5202.000000  10000.000000   \n",
      "mean      24.687000   5352.157400      8.039200   1142.904460      1.319500   \n",
      "std       17.532614   4006.799803     23.831875   1021.517264      1.493601   \n",
      "min        0.000000    168.000000      0.000000      0.000000      0.000000   \n",
      "25%        6.000000   1564.000000      0.000000    350.000000      0.000000   \n",
      "50%       25.000000   5285.000000      2.000000    900.000000      1.000000   \n",
      "75%       36.000000   7227.000000      5.000000   1548.000000      2.000000   \n",
      "max       74.000000  19083.000000    141.000000   4849.000000      6.000000   \n",
      "\n",
      "            Shops_1          Price  \n",
      "count  10000.000000   10000.000000  \n",
      "mean       4.231300  214138.857399  \n",
      "std        4.806341   92872.293865  \n",
      "min        0.000000   59174.778028  \n",
      "25%        1.000000  153872.633942  \n",
      "50%        3.000000  192269.644879  \n",
      "75%        6.000000  249135.462171  \n",
      "max       23.000000  633233.466570  \n"
     ]
    }
   ],
   "source": [
    "# вывод информации о DataFrame\n",
    "print(data.info())\n",
    "\n",
    "# вывод основных статистических характеристик числовых полей\n",
    "print(data.describe())"
   ]
  },
  {
   "cell_type": "markdown",
   "id": "6d96d4c8",
   "metadata": {},
   "source": [
    "9. Удалите из таблицы столбцы, содержащие идентификаторы, переименуйте все оставшиеся названия колонок на русском языке."
   ]
  },
  {
   "cell_type": "code",
   "execution_count": 13,
   "id": "95f9762e",
   "metadata": {},
   "outputs": [
    {
     "name": "stdout",
     "output_type": "stream",
     "text": [
      "   Количество комнат  Общая площадь  Жилая площадь  Площадь кухни  Этаж  \\\n",
      "0                3.0     115.027311            NaN           10.0     4   \n",
      "1                1.0      39.832524      23.169223            8.0     7   \n",
      "2                3.0      78.342215      47.671972           10.0     2   \n",
      "3                1.0      40.409907            NaN            1.0    10   \n",
      "4                2.0      64.285067      38.562517            9.0    16   \n",
      "\n",
      "   Количество этажей в доме  Год постройки дома  Экологический показатель 1  \\\n",
      "0                      10.0                2014                    0.075424   \n",
      "1                       8.0                1966                    0.118537   \n",
      "2                      17.0                1988                    0.025609   \n",
      "3                      22.0                1977                    0.007122   \n",
      "4                      16.0                1972                    0.282798   \n",
      "\n",
      "  Экологический показатель 2 Экологический показатель 3  \\\n",
      "0                          B                          B   \n",
      "1                          B                          B   \n",
      "2                          B                          B   \n",
      "3                          B                          B   \n",
      "4                          B                          B   \n",
      "\n",
      "   Социальный показатель 1  Социальный показатель 2  Социальный показатель 3  \\\n",
      "0                       11                     3097                        0   \n",
      "1                       30                     6207                        1   \n",
      "2                       33                     5261                        0   \n",
      "3                        1                      264                        0   \n",
      "4                       33                     8667                        2   \n",
      "\n",
      "   Показатель здравоохранения  Показатель здравоохранения 2  \\\n",
      "0                         NaN                             0   \n",
      "1                      1183.0                             1   \n",
      "2                       240.0                             3   \n",
      "3                         NaN                             0   \n",
      "4                         NaN                             0   \n",
      "\n",
      "   Количество магазинов в радиусе 500м Наличие магазинов в радиусе 500м  \\\n",
      "0                                    0                                B   \n",
      "1                                    0                                B   \n",
      "2                                    1                                B   \n",
      "3                                    1                                B   \n",
      "4                                    6                                B   \n",
      "\n",
      "            Цена  \n",
      "0  305018.871089  \n",
      "1  177734.553407  \n",
      "2  282078.720850  \n",
      "3  168106.007630  \n",
      "4  343995.102962  \n"
     ]
    }
   ],
   "source": [
    "# удаляем столбцы с идентификаторами\n",
    "data = data.drop(['Id', 'DistrictId'], axis=1)\n",
    "# переименовываем оставшиеся столбцы\n",
    "data = data.rename(columns={\n",
    "    'Rooms': 'Количество комнат',\n",
    "    'Square': 'Общая площадь',\n",
    "    'LifeSquare': 'Жилая площадь',\n",
    "    'KitchenSquare': 'Площадь кухни',\n",
    "    'Floor': 'Этаж',\n",
    "    'HouseFloor': 'Количество этажей в доме',\n",
    "    'HouseYear': 'Год постройки дома',\n",
    "    'Ecology_1': 'Экологический показатель 1',\n",
    "    'Ecology_2': 'Экологический показатель 2',\n",
    "    'Ecology_3': 'Экологический показатель 3',\n",
    "    'Social_1': 'Социальный показатель 1',\n",
    "    'Social_2': 'Социальный показатель 2',\n",
    "    'Social_3': 'Социальный показатель 3',\n",
    "    'Healthcare_1': 'Показатель здравоохранения',\n",
    "    'Helthcare_2': 'Показатель здравоохранения 2',\n",
    "    'Shops_1': 'Количество магазинов в радиусе 500м',\n",
    "    'Shops_2': 'Наличие магазинов в радиусе 500м',\n",
    "    'Price': 'Цена'\n",
    "})\n",
    "print(data.head())"
   ]
  },
  {
   "cell_type": "markdown",
   "id": "7bd2ce4e",
   "metadata": {},
   "source": [
    "10. Выведите отдельно столбец, содержащий цену, по номеру и названию. Выведите первую, десятую и предпоследнюю строку таблицы по номеру и по индексу."
   ]
  },
  {
   "cell_type": "code",
   "execution_count": 9,
   "id": "1c18db7e",
   "metadata": {},
   "outputs": [
    {
     "name": "stdout",
     "output_type": "stream",
     "text": [
      "0       305018.871089\n",
      "1       177734.553407\n",
      "2       282078.720850\n",
      "3       168106.007630\n",
      "4       343995.102962\n",
      "            ...      \n",
      "9995    119367.455796\n",
      "9996    199715.148807\n",
      "9997    165953.912580\n",
      "9998    171842.411855\n",
      "9999    177685.627486\n",
      "Name: Цена, Length: 10000, dtype: float64\n",
      "0       305018.871089\n",
      "1       177734.553407\n",
      "2       282078.720850\n",
      "3       168106.007630\n",
      "4       343995.102962\n",
      "            ...      \n",
      "9995    119367.455796\n",
      "9996    199715.148807\n",
      "9997    165953.912580\n",
      "9998    171842.411855\n",
      "9999    177685.627486\n",
      "Name: Цена, Length: 10000, dtype: float64\n"
     ]
    }
   ],
   "source": [
    "# Вывод столбца по названию\n",
    "price_column = data['Цена']\n",
    "print(price_column)\n",
    "\n",
    "# Вывод столбца по номеру\n",
    "price_column = data.iloc[:, -1]\n",
    "print(price_column)"
   ]
  },
  {
   "cell_type": "markdown",
   "id": "b09b7394",
   "metadata": {},
   "source": [
    "11. Выделите в отдельную таблицу последние десять строк. Уберите в ней столбец с ценой. Склейте ее с первоначальной таблицей при помощи append. Заполните отсутствующие значения цены средним по таблице."
   ]
  },
  {
   "cell_type": "code",
   "execution_count": 10,
   "id": "a4ffecb8",
   "metadata": {},
   "outputs": [
    {
     "name": "stderr",
     "output_type": "stream",
     "text": [
      "C:\\Users\\HP\\AppData\\Local\\Temp\\ipykernel_1500\\2919015817.py:3: FutureWarning: The frame.append method is deprecated and will be removed from pandas in a future version. Use pandas.concat instead.\n",
      "  new_data = data.append(last_10_rows_without_price, ignore_index=True)\n"
     ]
    },
    {
     "data": {
      "text/html": [
       "<div>\n",
       "<style scoped>\n",
       "    .dataframe tbody tr th:only-of-type {\n",
       "        vertical-align: middle;\n",
       "    }\n",
       "\n",
       "    .dataframe tbody tr th {\n",
       "        vertical-align: top;\n",
       "    }\n",
       "\n",
       "    .dataframe thead th {\n",
       "        text-align: right;\n",
       "    }\n",
       "</style>\n",
       "<table border=\"1\" class=\"dataframe\">\n",
       "  <thead>\n",
       "    <tr style=\"text-align: right;\">\n",
       "      <th></th>\n",
       "      <th>Количество комнат</th>\n",
       "      <th>Общая площадь</th>\n",
       "      <th>Жилая площадь</th>\n",
       "      <th>Площадь кухни</th>\n",
       "      <th>Этаж</th>\n",
       "      <th>Количество этажей в доме</th>\n",
       "      <th>Год постройки дома</th>\n",
       "      <th>Экологический показатель 1</th>\n",
       "      <th>Экологический показатель 2</th>\n",
       "      <th>Экологический показатель 3</th>\n",
       "      <th>Социальный показатель 1</th>\n",
       "      <th>Социальный показатель 2</th>\n",
       "      <th>Социальный показатель 3</th>\n",
       "      <th>Показатель здравоохранения</th>\n",
       "      <th>Показатель здравоохранения 2</th>\n",
       "      <th>Количество магазинов в радиусе 500м</th>\n",
       "      <th>Наличие магазинов в радиусе 500м</th>\n",
       "      <th>Цена</th>\n",
       "    </tr>\n",
       "  </thead>\n",
       "  <tbody>\n",
       "    <tr>\n",
       "      <th>0</th>\n",
       "      <td>3.0</td>\n",
       "      <td>115.027311</td>\n",
       "      <td>NaN</td>\n",
       "      <td>10.0</td>\n",
       "      <td>4</td>\n",
       "      <td>10.0</td>\n",
       "      <td>2014</td>\n",
       "      <td>0.075424</td>\n",
       "      <td>B</td>\n",
       "      <td>B</td>\n",
       "      <td>11</td>\n",
       "      <td>3097</td>\n",
       "      <td>0</td>\n",
       "      <td>NaN</td>\n",
       "      <td>0</td>\n",
       "      <td>0</td>\n",
       "      <td>B</td>\n",
       "      <td>305018.871089</td>\n",
       "    </tr>\n",
       "    <tr>\n",
       "      <th>1</th>\n",
       "      <td>1.0</td>\n",
       "      <td>39.832524</td>\n",
       "      <td>23.169223</td>\n",
       "      <td>8.0</td>\n",
       "      <td>7</td>\n",
       "      <td>8.0</td>\n",
       "      <td>1966</td>\n",
       "      <td>0.118537</td>\n",
       "      <td>B</td>\n",
       "      <td>B</td>\n",
       "      <td>30</td>\n",
       "      <td>6207</td>\n",
       "      <td>1</td>\n",
       "      <td>1183.0</td>\n",
       "      <td>1</td>\n",
       "      <td>0</td>\n",
       "      <td>B</td>\n",
       "      <td>177734.553407</td>\n",
       "    </tr>\n",
       "    <tr>\n",
       "      <th>2</th>\n",
       "      <td>3.0</td>\n",
       "      <td>78.342215</td>\n",
       "      <td>47.671972</td>\n",
       "      <td>10.0</td>\n",
       "      <td>2</td>\n",
       "      <td>17.0</td>\n",
       "      <td>1988</td>\n",
       "      <td>0.025609</td>\n",
       "      <td>B</td>\n",
       "      <td>B</td>\n",
       "      <td>33</td>\n",
       "      <td>5261</td>\n",
       "      <td>0</td>\n",
       "      <td>240.0</td>\n",
       "      <td>3</td>\n",
       "      <td>1</td>\n",
       "      <td>B</td>\n",
       "      <td>282078.720850</td>\n",
       "    </tr>\n",
       "    <tr>\n",
       "      <th>3</th>\n",
       "      <td>1.0</td>\n",
       "      <td>40.409907</td>\n",
       "      <td>NaN</td>\n",
       "      <td>1.0</td>\n",
       "      <td>10</td>\n",
       "      <td>22.0</td>\n",
       "      <td>1977</td>\n",
       "      <td>0.007122</td>\n",
       "      <td>B</td>\n",
       "      <td>B</td>\n",
       "      <td>1</td>\n",
       "      <td>264</td>\n",
       "      <td>0</td>\n",
       "      <td>NaN</td>\n",
       "      <td>0</td>\n",
       "      <td>1</td>\n",
       "      <td>B</td>\n",
       "      <td>168106.007630</td>\n",
       "    </tr>\n",
       "    <tr>\n",
       "      <th>4</th>\n",
       "      <td>2.0</td>\n",
       "      <td>64.285067</td>\n",
       "      <td>38.562517</td>\n",
       "      <td>9.0</td>\n",
       "      <td>16</td>\n",
       "      <td>16.0</td>\n",
       "      <td>1972</td>\n",
       "      <td>0.282798</td>\n",
       "      <td>B</td>\n",
       "      <td>B</td>\n",
       "      <td>33</td>\n",
       "      <td>8667</td>\n",
       "      <td>2</td>\n",
       "      <td>NaN</td>\n",
       "      <td>0</td>\n",
       "      <td>6</td>\n",
       "      <td>B</td>\n",
       "      <td>343995.102962</td>\n",
       "    </tr>\n",
       "    <tr>\n",
       "      <th>...</th>\n",
       "      <td>...</td>\n",
       "      <td>...</td>\n",
       "      <td>...</td>\n",
       "      <td>...</td>\n",
       "      <td>...</td>\n",
       "      <td>...</td>\n",
       "      <td>...</td>\n",
       "      <td>...</td>\n",
       "      <td>...</td>\n",
       "      <td>...</td>\n",
       "      <td>...</td>\n",
       "      <td>...</td>\n",
       "      <td>...</td>\n",
       "      <td>...</td>\n",
       "      <td>...</td>\n",
       "      <td>...</td>\n",
       "      <td>...</td>\n",
       "      <td>...</td>\n",
       "    </tr>\n",
       "    <tr>\n",
       "      <th>10005</th>\n",
       "      <td>2.0</td>\n",
       "      <td>49.090728</td>\n",
       "      <td>33.272626</td>\n",
       "      <td>6.0</td>\n",
       "      <td>3</td>\n",
       "      <td>12.0</td>\n",
       "      <td>1981</td>\n",
       "      <td>0.300323</td>\n",
       "      <td>B</td>\n",
       "      <td>B</td>\n",
       "      <td>52</td>\n",
       "      <td>10311</td>\n",
       "      <td>6</td>\n",
       "      <td>NaN</td>\n",
       "      <td>1</td>\n",
       "      <td>9</td>\n",
       "      <td>B</td>\n",
       "      <td>214138.857399</td>\n",
       "    </tr>\n",
       "    <tr>\n",
       "      <th>10006</th>\n",
       "      <td>2.0</td>\n",
       "      <td>64.307684</td>\n",
       "      <td>37.038420</td>\n",
       "      <td>9.0</td>\n",
       "      <td>13</td>\n",
       "      <td>0.0</td>\n",
       "      <td>1977</td>\n",
       "      <td>0.072158</td>\n",
       "      <td>B</td>\n",
       "      <td>B</td>\n",
       "      <td>2</td>\n",
       "      <td>629</td>\n",
       "      <td>1</td>\n",
       "      <td>NaN</td>\n",
       "      <td>0</td>\n",
       "      <td>0</td>\n",
       "      <td>A</td>\n",
       "      <td>214138.857399</td>\n",
       "    </tr>\n",
       "    <tr>\n",
       "      <th>10007</th>\n",
       "      <td>1.0</td>\n",
       "      <td>29.648057</td>\n",
       "      <td>16.555363</td>\n",
       "      <td>5.0</td>\n",
       "      <td>3</td>\n",
       "      <td>5.0</td>\n",
       "      <td>1958</td>\n",
       "      <td>0.460556</td>\n",
       "      <td>B</td>\n",
       "      <td>B</td>\n",
       "      <td>20</td>\n",
       "      <td>4386</td>\n",
       "      <td>14</td>\n",
       "      <td>NaN</td>\n",
       "      <td>1</td>\n",
       "      <td>5</td>\n",
       "      <td>B</td>\n",
       "      <td>214138.857399</td>\n",
       "    </tr>\n",
       "    <tr>\n",
       "      <th>10008</th>\n",
       "      <td>1.0</td>\n",
       "      <td>32.330292</td>\n",
       "      <td>22.326870</td>\n",
       "      <td>5.0</td>\n",
       "      <td>3</td>\n",
       "      <td>9.0</td>\n",
       "      <td>1969</td>\n",
       "      <td>0.194489</td>\n",
       "      <td>B</td>\n",
       "      <td>B</td>\n",
       "      <td>47</td>\n",
       "      <td>8004</td>\n",
       "      <td>3</td>\n",
       "      <td>125.0</td>\n",
       "      <td>3</td>\n",
       "      <td>5</td>\n",
       "      <td>B</td>\n",
       "      <td>214138.857399</td>\n",
       "    </tr>\n",
       "    <tr>\n",
       "      <th>10009</th>\n",
       "      <td>1.0</td>\n",
       "      <td>35.815476</td>\n",
       "      <td>22.301367</td>\n",
       "      <td>6.0</td>\n",
       "      <td>9</td>\n",
       "      <td>9.0</td>\n",
       "      <td>1975</td>\n",
       "      <td>0.127376</td>\n",
       "      <td>B</td>\n",
       "      <td>B</td>\n",
       "      <td>43</td>\n",
       "      <td>8429</td>\n",
       "      <td>3</td>\n",
       "      <td>NaN</td>\n",
       "      <td>3</td>\n",
       "      <td>9</td>\n",
       "      <td>B</td>\n",
       "      <td>214138.857399</td>\n",
       "    </tr>\n",
       "  </tbody>\n",
       "</table>\n",
       "<p>10010 rows × 18 columns</p>\n",
       "</div>"
      ],
      "text/plain": [
       "       Количество комнат  Общая площадь  Жилая площадь  Площадь кухни  Этаж  \\\n",
       "0                    3.0     115.027311            NaN           10.0     4   \n",
       "1                    1.0      39.832524      23.169223            8.0     7   \n",
       "2                    3.0      78.342215      47.671972           10.0     2   \n",
       "3                    1.0      40.409907            NaN            1.0    10   \n",
       "4                    2.0      64.285067      38.562517            9.0    16   \n",
       "...                  ...            ...            ...            ...   ...   \n",
       "10005                2.0      49.090728      33.272626            6.0     3   \n",
       "10006                2.0      64.307684      37.038420            9.0    13   \n",
       "10007                1.0      29.648057      16.555363            5.0     3   \n",
       "10008                1.0      32.330292      22.326870            5.0     3   \n",
       "10009                1.0      35.815476      22.301367            6.0     9   \n",
       "\n",
       "       Количество этажей в доме  Год постройки дома  \\\n",
       "0                          10.0                2014   \n",
       "1                           8.0                1966   \n",
       "2                          17.0                1988   \n",
       "3                          22.0                1977   \n",
       "4                          16.0                1972   \n",
       "...                         ...                 ...   \n",
       "10005                      12.0                1981   \n",
       "10006                       0.0                1977   \n",
       "10007                       5.0                1958   \n",
       "10008                       9.0                1969   \n",
       "10009                       9.0                1975   \n",
       "\n",
       "       Экологический показатель 1 Экологический показатель 2  \\\n",
       "0                        0.075424                          B   \n",
       "1                        0.118537                          B   \n",
       "2                        0.025609                          B   \n",
       "3                        0.007122                          B   \n",
       "4                        0.282798                          B   \n",
       "...                           ...                        ...   \n",
       "10005                    0.300323                          B   \n",
       "10006                    0.072158                          B   \n",
       "10007                    0.460556                          B   \n",
       "10008                    0.194489                          B   \n",
       "10009                    0.127376                          B   \n",
       "\n",
       "      Экологический показатель 3  Социальный показатель 1  \\\n",
       "0                              B                       11   \n",
       "1                              B                       30   \n",
       "2                              B                       33   \n",
       "3                              B                        1   \n",
       "4                              B                       33   \n",
       "...                          ...                      ...   \n",
       "10005                          B                       52   \n",
       "10006                          B                        2   \n",
       "10007                          B                       20   \n",
       "10008                          B                       47   \n",
       "10009                          B                       43   \n",
       "\n",
       "       Социальный показатель 2  Социальный показатель 3  \\\n",
       "0                         3097                        0   \n",
       "1                         6207                        1   \n",
       "2                         5261                        0   \n",
       "3                          264                        0   \n",
       "4                         8667                        2   \n",
       "...                        ...                      ...   \n",
       "10005                    10311                        6   \n",
       "10006                      629                        1   \n",
       "10007                     4386                       14   \n",
       "10008                     8004                        3   \n",
       "10009                     8429                        3   \n",
       "\n",
       "       Показатель здравоохранения  Показатель здравоохранения 2  \\\n",
       "0                             NaN                             0   \n",
       "1                          1183.0                             1   \n",
       "2                           240.0                             3   \n",
       "3                             NaN                             0   \n",
       "4                             NaN                             0   \n",
       "...                           ...                           ...   \n",
       "10005                         NaN                             1   \n",
       "10006                         NaN                             0   \n",
       "10007                         NaN                             1   \n",
       "10008                       125.0                             3   \n",
       "10009                         NaN                             3   \n",
       "\n",
       "       Количество магазинов в радиусе 500м Наличие магазинов в радиусе 500м  \\\n",
       "0                                        0                                B   \n",
       "1                                        0                                B   \n",
       "2                                        1                                B   \n",
       "3                                        1                                B   \n",
       "4                                        6                                B   \n",
       "...                                    ...                              ...   \n",
       "10005                                    9                                B   \n",
       "10006                                    0                                A   \n",
       "10007                                    5                                B   \n",
       "10008                                    5                                B   \n",
       "10009                                    9                                B   \n",
       "\n",
       "                Цена  \n",
       "0      305018.871089  \n",
       "1      177734.553407  \n",
       "2      282078.720850  \n",
       "3      168106.007630  \n",
       "4      343995.102962  \n",
       "...              ...  \n",
       "10005  214138.857399  \n",
       "10006  214138.857399  \n",
       "10007  214138.857399  \n",
       "10008  214138.857399  \n",
       "10009  214138.857399  \n",
       "\n",
       "[10010 rows x 18 columns]"
      ]
     },
     "execution_count": 10,
     "metadata": {},
     "output_type": "execute_result"
    }
   ],
   "source": [
    "last_10_rows = data.tail(10)\n",
    "last_10_rows_without_price = last_10_rows.drop('Цена', axis=1)\n",
    "new_data = data.append(last_10_rows_without_price, ignore_index=True)\n",
    "mean_price = data['Цена'].mean()\n",
    "new_data['Цена'] = new_data['Цена'].fillna(mean_price)\n",
    "new_data"
   ]
  },
  {
   "cell_type": "markdown",
   "id": "d084d92f",
   "metadata": {},
   "source": [
    "12. Выделите пять последних колонок в отдельную таблицу. Удалите в ней строки, в которых цена ниже среднего. Присоедините эту таблицу к изначальной (выберите самый подходящий тип соединения)."
   ]
  },
  {
   "cell_type": "code",
   "execution_count": 11,
   "id": "ab3ec70f",
   "metadata": {},
   "outputs": [
    {
     "data": {
      "text/html": [
       "<div>\n",
       "<style scoped>\n",
       "    .dataframe tbody tr th:only-of-type {\n",
       "        vertical-align: middle;\n",
       "    }\n",
       "\n",
       "    .dataframe tbody tr th {\n",
       "        vertical-align: top;\n",
       "    }\n",
       "\n",
       "    .dataframe thead th {\n",
       "        text-align: right;\n",
       "    }\n",
       "</style>\n",
       "<table border=\"1\" class=\"dataframe\">\n",
       "  <thead>\n",
       "    <tr style=\"text-align: right;\">\n",
       "      <th></th>\n",
       "      <th>Количество комнат</th>\n",
       "      <th>Общая площадь</th>\n",
       "      <th>Жилая площадь</th>\n",
       "      <th>Площадь кухни</th>\n",
       "      <th>Этаж</th>\n",
       "      <th>Количество этажей в доме</th>\n",
       "      <th>Год постройки дома</th>\n",
       "      <th>Экологический показатель 1</th>\n",
       "      <th>Экологический показатель 2</th>\n",
       "      <th>Экологический показатель 3</th>\n",
       "      <th>...</th>\n",
       "      <th>Показатель здравоохранения</th>\n",
       "      <th>Показатель здравоохранения 2</th>\n",
       "      <th>Количество магазинов в радиусе 500м</th>\n",
       "      <th>Наличие магазинов в радиусе 500м</th>\n",
       "      <th>Цена</th>\n",
       "      <th>Показатель здравоохранения</th>\n",
       "      <th>Показатель здравоохранения 2</th>\n",
       "      <th>Количество магазинов в радиусе 500м</th>\n",
       "      <th>Наличие магазинов в радиусе 500м</th>\n",
       "      <th>Цена</th>\n",
       "    </tr>\n",
       "  </thead>\n",
       "  <tbody>\n",
       "    <tr>\n",
       "      <th>0</th>\n",
       "      <td>3.0</td>\n",
       "      <td>115.027311</td>\n",
       "      <td>NaN</td>\n",
       "      <td>10.0</td>\n",
       "      <td>4</td>\n",
       "      <td>10.0</td>\n",
       "      <td>2014</td>\n",
       "      <td>0.075424</td>\n",
       "      <td>B</td>\n",
       "      <td>B</td>\n",
       "      <td>...</td>\n",
       "      <td>NaN</td>\n",
       "      <td>0</td>\n",
       "      <td>0</td>\n",
       "      <td>B</td>\n",
       "      <td>305018.871089</td>\n",
       "      <td>NaN</td>\n",
       "      <td>0.0</td>\n",
       "      <td>0.0</td>\n",
       "      <td>B</td>\n",
       "      <td>305018.871089</td>\n",
       "    </tr>\n",
       "    <tr>\n",
       "      <th>1</th>\n",
       "      <td>1.0</td>\n",
       "      <td>39.832524</td>\n",
       "      <td>23.169223</td>\n",
       "      <td>8.0</td>\n",
       "      <td>7</td>\n",
       "      <td>8.0</td>\n",
       "      <td>1966</td>\n",
       "      <td>0.118537</td>\n",
       "      <td>B</td>\n",
       "      <td>B</td>\n",
       "      <td>...</td>\n",
       "      <td>1183.0</td>\n",
       "      <td>1</td>\n",
       "      <td>0</td>\n",
       "      <td>B</td>\n",
       "      <td>177734.553407</td>\n",
       "      <td>NaN</td>\n",
       "      <td>NaN</td>\n",
       "      <td>NaN</td>\n",
       "      <td>NaN</td>\n",
       "      <td>NaN</td>\n",
       "    </tr>\n",
       "    <tr>\n",
       "      <th>2</th>\n",
       "      <td>3.0</td>\n",
       "      <td>78.342215</td>\n",
       "      <td>47.671972</td>\n",
       "      <td>10.0</td>\n",
       "      <td>2</td>\n",
       "      <td>17.0</td>\n",
       "      <td>1988</td>\n",
       "      <td>0.025609</td>\n",
       "      <td>B</td>\n",
       "      <td>B</td>\n",
       "      <td>...</td>\n",
       "      <td>240.0</td>\n",
       "      <td>3</td>\n",
       "      <td>1</td>\n",
       "      <td>B</td>\n",
       "      <td>282078.720850</td>\n",
       "      <td>240.0</td>\n",
       "      <td>3.0</td>\n",
       "      <td>1.0</td>\n",
       "      <td>B</td>\n",
       "      <td>282078.720850</td>\n",
       "    </tr>\n",
       "    <tr>\n",
       "      <th>3</th>\n",
       "      <td>1.0</td>\n",
       "      <td>40.409907</td>\n",
       "      <td>NaN</td>\n",
       "      <td>1.0</td>\n",
       "      <td>10</td>\n",
       "      <td>22.0</td>\n",
       "      <td>1977</td>\n",
       "      <td>0.007122</td>\n",
       "      <td>B</td>\n",
       "      <td>B</td>\n",
       "      <td>...</td>\n",
       "      <td>NaN</td>\n",
       "      <td>0</td>\n",
       "      <td>1</td>\n",
       "      <td>B</td>\n",
       "      <td>168106.007630</td>\n",
       "      <td>NaN</td>\n",
       "      <td>NaN</td>\n",
       "      <td>NaN</td>\n",
       "      <td>NaN</td>\n",
       "      <td>NaN</td>\n",
       "    </tr>\n",
       "    <tr>\n",
       "      <th>4</th>\n",
       "      <td>2.0</td>\n",
       "      <td>64.285067</td>\n",
       "      <td>38.562517</td>\n",
       "      <td>9.0</td>\n",
       "      <td>16</td>\n",
       "      <td>16.0</td>\n",
       "      <td>1972</td>\n",
       "      <td>0.282798</td>\n",
       "      <td>B</td>\n",
       "      <td>B</td>\n",
       "      <td>...</td>\n",
       "      <td>NaN</td>\n",
       "      <td>0</td>\n",
       "      <td>6</td>\n",
       "      <td>B</td>\n",
       "      <td>343995.102962</td>\n",
       "      <td>NaN</td>\n",
       "      <td>0.0</td>\n",
       "      <td>6.0</td>\n",
       "      <td>B</td>\n",
       "      <td>343995.102962</td>\n",
       "    </tr>\n",
       "    <tr>\n",
       "      <th>...</th>\n",
       "      <td>...</td>\n",
       "      <td>...</td>\n",
       "      <td>...</td>\n",
       "      <td>...</td>\n",
       "      <td>...</td>\n",
       "      <td>...</td>\n",
       "      <td>...</td>\n",
       "      <td>...</td>\n",
       "      <td>...</td>\n",
       "      <td>...</td>\n",
       "      <td>...</td>\n",
       "      <td>...</td>\n",
       "      <td>...</td>\n",
       "      <td>...</td>\n",
       "      <td>...</td>\n",
       "      <td>...</td>\n",
       "      <td>...</td>\n",
       "      <td>...</td>\n",
       "      <td>...</td>\n",
       "      <td>...</td>\n",
       "      <td>...</td>\n",
       "    </tr>\n",
       "    <tr>\n",
       "      <th>9995</th>\n",
       "      <td>2.0</td>\n",
       "      <td>49.090728</td>\n",
       "      <td>33.272626</td>\n",
       "      <td>6.0</td>\n",
       "      <td>3</td>\n",
       "      <td>12.0</td>\n",
       "      <td>1981</td>\n",
       "      <td>0.300323</td>\n",
       "      <td>B</td>\n",
       "      <td>B</td>\n",
       "      <td>...</td>\n",
       "      <td>NaN</td>\n",
       "      <td>1</td>\n",
       "      <td>9</td>\n",
       "      <td>B</td>\n",
       "      <td>119367.455796</td>\n",
       "      <td>NaN</td>\n",
       "      <td>NaN</td>\n",
       "      <td>NaN</td>\n",
       "      <td>NaN</td>\n",
       "      <td>NaN</td>\n",
       "    </tr>\n",
       "    <tr>\n",
       "      <th>9996</th>\n",
       "      <td>2.0</td>\n",
       "      <td>64.307684</td>\n",
       "      <td>37.038420</td>\n",
       "      <td>9.0</td>\n",
       "      <td>13</td>\n",
       "      <td>0.0</td>\n",
       "      <td>1977</td>\n",
       "      <td>0.072158</td>\n",
       "      <td>B</td>\n",
       "      <td>B</td>\n",
       "      <td>...</td>\n",
       "      <td>NaN</td>\n",
       "      <td>0</td>\n",
       "      <td>0</td>\n",
       "      <td>A</td>\n",
       "      <td>199715.148807</td>\n",
       "      <td>NaN</td>\n",
       "      <td>NaN</td>\n",
       "      <td>NaN</td>\n",
       "      <td>NaN</td>\n",
       "      <td>NaN</td>\n",
       "    </tr>\n",
       "    <tr>\n",
       "      <th>9997</th>\n",
       "      <td>1.0</td>\n",
       "      <td>29.648057</td>\n",
       "      <td>16.555363</td>\n",
       "      <td>5.0</td>\n",
       "      <td>3</td>\n",
       "      <td>5.0</td>\n",
       "      <td>1958</td>\n",
       "      <td>0.460556</td>\n",
       "      <td>B</td>\n",
       "      <td>B</td>\n",
       "      <td>...</td>\n",
       "      <td>NaN</td>\n",
       "      <td>1</td>\n",
       "      <td>5</td>\n",
       "      <td>B</td>\n",
       "      <td>165953.912580</td>\n",
       "      <td>NaN</td>\n",
       "      <td>NaN</td>\n",
       "      <td>NaN</td>\n",
       "      <td>NaN</td>\n",
       "      <td>NaN</td>\n",
       "    </tr>\n",
       "    <tr>\n",
       "      <th>9998</th>\n",
       "      <td>1.0</td>\n",
       "      <td>32.330292</td>\n",
       "      <td>22.326870</td>\n",
       "      <td>5.0</td>\n",
       "      <td>3</td>\n",
       "      <td>9.0</td>\n",
       "      <td>1969</td>\n",
       "      <td>0.194489</td>\n",
       "      <td>B</td>\n",
       "      <td>B</td>\n",
       "      <td>...</td>\n",
       "      <td>125.0</td>\n",
       "      <td>3</td>\n",
       "      <td>5</td>\n",
       "      <td>B</td>\n",
       "      <td>171842.411855</td>\n",
       "      <td>NaN</td>\n",
       "      <td>NaN</td>\n",
       "      <td>NaN</td>\n",
       "      <td>NaN</td>\n",
       "      <td>NaN</td>\n",
       "    </tr>\n",
       "    <tr>\n",
       "      <th>9999</th>\n",
       "      <td>1.0</td>\n",
       "      <td>35.815476</td>\n",
       "      <td>22.301367</td>\n",
       "      <td>6.0</td>\n",
       "      <td>9</td>\n",
       "      <td>9.0</td>\n",
       "      <td>1975</td>\n",
       "      <td>0.127376</td>\n",
       "      <td>B</td>\n",
       "      <td>B</td>\n",
       "      <td>...</td>\n",
       "      <td>NaN</td>\n",
       "      <td>3</td>\n",
       "      <td>9</td>\n",
       "      <td>B</td>\n",
       "      <td>177685.627486</td>\n",
       "      <td>NaN</td>\n",
       "      <td>NaN</td>\n",
       "      <td>NaN</td>\n",
       "      <td>NaN</td>\n",
       "      <td>NaN</td>\n",
       "    </tr>\n",
       "  </tbody>\n",
       "</table>\n",
       "<p>10000 rows × 23 columns</p>\n",
       "</div>"
      ],
      "text/plain": [
       "      Количество комнат  Общая площадь  Жилая площадь  Площадь кухни  Этаж  \\\n",
       "0                   3.0     115.027311            NaN           10.0     4   \n",
       "1                   1.0      39.832524      23.169223            8.0     7   \n",
       "2                   3.0      78.342215      47.671972           10.0     2   \n",
       "3                   1.0      40.409907            NaN            1.0    10   \n",
       "4                   2.0      64.285067      38.562517            9.0    16   \n",
       "...                 ...            ...            ...            ...   ...   \n",
       "9995                2.0      49.090728      33.272626            6.0     3   \n",
       "9996                2.0      64.307684      37.038420            9.0    13   \n",
       "9997                1.0      29.648057      16.555363            5.0     3   \n",
       "9998                1.0      32.330292      22.326870            5.0     3   \n",
       "9999                1.0      35.815476      22.301367            6.0     9   \n",
       "\n",
       "      Количество этажей в доме  Год постройки дома  \\\n",
       "0                         10.0                2014   \n",
       "1                          8.0                1966   \n",
       "2                         17.0                1988   \n",
       "3                         22.0                1977   \n",
       "4                         16.0                1972   \n",
       "...                        ...                 ...   \n",
       "9995                      12.0                1981   \n",
       "9996                       0.0                1977   \n",
       "9997                       5.0                1958   \n",
       "9998                       9.0                1969   \n",
       "9999                       9.0                1975   \n",
       "\n",
       "      Экологический показатель 1 Экологический показатель 2  \\\n",
       "0                       0.075424                          B   \n",
       "1                       0.118537                          B   \n",
       "2                       0.025609                          B   \n",
       "3                       0.007122                          B   \n",
       "4                       0.282798                          B   \n",
       "...                          ...                        ...   \n",
       "9995                    0.300323                          B   \n",
       "9996                    0.072158                          B   \n",
       "9997                    0.460556                          B   \n",
       "9998                    0.194489                          B   \n",
       "9999                    0.127376                          B   \n",
       "\n",
       "     Экологический показатель 3  ...  Показатель здравоохранения  \\\n",
       "0                             B  ...                         NaN   \n",
       "1                             B  ...                      1183.0   \n",
       "2                             B  ...                       240.0   \n",
       "3                             B  ...                         NaN   \n",
       "4                             B  ...                         NaN   \n",
       "...                         ...  ...                         ...   \n",
       "9995                          B  ...                         NaN   \n",
       "9996                          B  ...                         NaN   \n",
       "9997                          B  ...                         NaN   \n",
       "9998                          B  ...                       125.0   \n",
       "9999                          B  ...                         NaN   \n",
       "\n",
       "     Показатель здравоохранения 2  Количество магазинов в радиусе 500м  \\\n",
       "0                               0                                    0   \n",
       "1                               1                                    0   \n",
       "2                               3                                    1   \n",
       "3                               0                                    1   \n",
       "4                               0                                    6   \n",
       "...                           ...                                  ...   \n",
       "9995                            1                                    9   \n",
       "9996                            0                                    0   \n",
       "9997                            1                                    5   \n",
       "9998                            3                                    5   \n",
       "9999                            3                                    9   \n",
       "\n",
       "      Наличие магазинов в радиусе 500м           Цена  \\\n",
       "0                                    B  305018.871089   \n",
       "1                                    B  177734.553407   \n",
       "2                                    B  282078.720850   \n",
       "3                                    B  168106.007630   \n",
       "4                                    B  343995.102962   \n",
       "...                                ...            ...   \n",
       "9995                                 B  119367.455796   \n",
       "9996                                 A  199715.148807   \n",
       "9997                                 B  165953.912580   \n",
       "9998                                 B  171842.411855   \n",
       "9999                                 B  177685.627486   \n",
       "\n",
       "      Показатель здравоохранения Показатель здравоохранения 2  \\\n",
       "0                            NaN                          0.0   \n",
       "1                            NaN                          NaN   \n",
       "2                          240.0                          3.0   \n",
       "3                            NaN                          NaN   \n",
       "4                            NaN                          0.0   \n",
       "...                          ...                          ...   \n",
       "9995                         NaN                          NaN   \n",
       "9996                         NaN                          NaN   \n",
       "9997                         NaN                          NaN   \n",
       "9998                         NaN                          NaN   \n",
       "9999                         NaN                          NaN   \n",
       "\n",
       "      Количество магазинов в радиусе 500м  Наличие магазинов в радиусе 500м  \\\n",
       "0                                     0.0                                 B   \n",
       "1                                     NaN                               NaN   \n",
       "2                                     1.0                                 B   \n",
       "3                                     NaN                               NaN   \n",
       "4                                     6.0                                 B   \n",
       "...                                   ...                               ...   \n",
       "9995                                  NaN                               NaN   \n",
       "9996                                  NaN                               NaN   \n",
       "9997                                  NaN                               NaN   \n",
       "9998                                  NaN                               NaN   \n",
       "9999                                  NaN                               NaN   \n",
       "\n",
       "               Цена  \n",
       "0     305018.871089  \n",
       "1               NaN  \n",
       "2     282078.720850  \n",
       "3               NaN  \n",
       "4     343995.102962  \n",
       "...             ...  \n",
       "9995            NaN  \n",
       "9996            NaN  \n",
       "9997            NaN  \n",
       "9998            NaN  \n",
       "9999            NaN  \n",
       "\n",
       "[10000 rows x 23 columns]"
      ]
     },
     "execution_count": 11,
     "metadata": {},
     "output_type": "execute_result"
    }
   ],
   "source": [
    "# Выделение последних 5 колонок в отдельную таблицу\n",
    "last_5_cols = data.iloc[:, -5:]\n",
    "\n",
    "# Вычисление среднего значения цены\n",
    "mean_price = data['Цена'].mean()\n",
    "\n",
    "# Фильтрация строк по цене\n",
    "filtered_last_5_cols = last_5_cols[data['Цена'] >= mean_price]\n",
    "\n",
    "# Присоединение таблицы\n",
    "new_data = pd.concat([data, filtered_last_5_cols], axis=1)\n",
    "new_data"
   ]
  },
  {
   "cell_type": "markdown",
   "id": "7f5590c2",
   "metadata": {},
   "source": [
    "13. Выведите таблицу, содержащую среднюю цену и количество квартир на каждом этаже из первоначального набора данных."
   ]
  },
  {
   "cell_type": "code",
   "execution_count": 14,
   "id": "b1dfc76b",
   "metadata": {},
   "outputs": [
    {
     "name": "stdout",
     "output_type": "stream",
     "text": [
      "               Цена  Количество комнат\n",
      "Этаж                                  \n",
      "1     181197.129047                235\n",
      "2     200054.515039                588\n",
      "3     197058.565017                872\n",
      "4     206755.158571                949\n",
      "5     208642.097899                876\n",
      "6     213620.817491                802\n",
      "7     219149.530324                759\n",
      "8     217291.383083                643\n",
      "9     218588.232587                604\n",
      "10    212030.108560                553\n",
      "11    213094.735844                457\n",
      "12    211672.926703                438\n",
      "13    215104.664305                398\n",
      "14    231031.896587                362\n",
      "15    234276.528574                287\n",
      "16    222327.410321                290\n",
      "17    219896.414764                256\n",
      "18    230055.477403                185\n",
      "19    229093.752512                121\n",
      "20    244087.213465                 68\n",
      "21    243138.009099                 59\n",
      "22    289708.585988                 54\n",
      "23    277347.739049                 25\n",
      "24    262331.096642                 53\n",
      "25    270813.232998                 34\n",
      "26    313255.149648                 18\n",
      "27    238152.827407                  5\n",
      "28    310932.492847                  3\n",
      "31    117647.461002                  1\n",
      "32    245640.188762                  2\n",
      "33    389554.063540                  1\n",
      "37    269113.584248                  1\n",
      "42    411691.504766                  1\n"
     ]
    }
   ],
   "source": [
    "floor_stats = data.groupby('Этаж').agg({'Цена': 'mean', 'Количество комнат': 'count'})\n",
    "\n",
    "print(floor_stats)"
   ]
  },
  {
   "cell_type": "markdown",
   "id": "f03bf9fb",
   "metadata": {},
   "source": [
    "14. Сохраните получившуюся таблицу в файлы формата csv и xlsx. Прочитайте их и убедитесь, что данные отображаются корректно."
   ]
  },
  {
   "cell_type": "code",
   "execution_count": 20,
   "id": "7d78f62d",
   "metadata": {},
   "outputs": [
    {
     "name": "stdout",
     "output_type": "stream",
     "text": [
      "Collecting openpyxl\n",
      "  Downloading openpyxl-3.1.1-py2.py3-none-any.whl (249 kB)\n",
      "     -------------------------------------- 249.8/249.8 kB 2.5 MB/s eta 0:00:00\n",
      "Collecting et-xmlfile\n",
      "  Using cached et_xmlfile-1.1.0-py3-none-any.whl (4.7 kB)\n",
      "Installing collected packages: et-xmlfile, openpyxl\n",
      "Successfully installed et-xmlfile-1.1.0 openpyxl-3.1.1\n"
     ]
    },
    {
     "name": "stderr",
     "output_type": "stream",
     "text": [
      "\n",
      "[notice] A new release of pip available: 22.3.1 -> 23.0\n",
      "[notice] To update, run: python.exe -m pip install --upgrade pip\n"
     ]
    }
   ],
   "source": [
    "!pip install openpyxl"
   ]
  },
  {
   "cell_type": "code",
   "execution_count": 16,
   "id": "b3b5439a",
   "metadata": {},
   "outputs": [],
   "source": [
    "# Сохранение таблицы в CSV-файл\n",
    "floor_stats.to_csv('floor_stats.csv', index=True, header=True)\n",
    "\n",
    "# Сохранение таблицы в Excel-файл\n",
    "floor_stats.to_excel('floor_stats.xlsx', index=True, header=True)"
   ]
  },
  {
   "cell_type": "markdown",
   "id": "0dd8f6ba",
   "metadata": {},
   "source": [
    "15. Создайте в Excel или другом табличном редакторе таблицу, содержащую несколько численных и текстовых полей. Прочитайте ее в программу при помощи pandas."
   ]
  },
  {
   "cell_type": "code",
   "execution_count": 28,
   "id": "fbd7d973",
   "metadata": {},
   "outputs": [
    {
     "data": {
      "text/html": [
       "<div>\n",
       "<style scoped>\n",
       "    .dataframe tbody tr th:only-of-type {\n",
       "        vertical-align: middle;\n",
       "    }\n",
       "\n",
       "    .dataframe tbody tr th {\n",
       "        vertical-align: top;\n",
       "    }\n",
       "\n",
       "    .dataframe thead th {\n",
       "        text-align: right;\n",
       "    }\n",
       "</style>\n",
       "<table border=\"1\" class=\"dataframe\">\n",
       "  <thead>\n",
       "    <tr style=\"text-align: right;\">\n",
       "      <th></th>\n",
       "      <th>Unnamed: 0</th>\n",
       "      <th>Name</th>\n",
       "      <th>Age</th>\n",
       "      <th>Gender</th>\n",
       "      <th>City</th>\n",
       "      <th>Salary</th>\n",
       "    </tr>\n",
       "  </thead>\n",
       "  <tbody>\n",
       "    <tr>\n",
       "      <th>0</th>\n",
       "      <td>1</td>\n",
       "      <td>John Smith</td>\n",
       "      <td>25</td>\n",
       "      <td>Male</td>\n",
       "      <td>New York</td>\n",
       "      <td>50000</td>\n",
       "    </tr>\n",
       "    <tr>\n",
       "      <th>1</th>\n",
       "      <td>2</td>\n",
       "      <td>Lisa Johnson</td>\n",
       "      <td>32</td>\n",
       "      <td>Female</td>\n",
       "      <td>Los Angeles</td>\n",
       "      <td>75000</td>\n",
       "    </tr>\n",
       "    <tr>\n",
       "      <th>2</th>\n",
       "      <td>3</td>\n",
       "      <td>Mark Brown</td>\n",
       "      <td>45</td>\n",
       "      <td>Male</td>\n",
       "      <td>Chicago</td>\n",
       "      <td>90000</td>\n",
       "    </tr>\n",
       "  </tbody>\n",
       "</table>\n",
       "</div>"
      ],
      "text/plain": [
       "   Unnamed: 0          Name  Age  Gender         City  Salary\n",
       "0           1    John Smith   25    Male     New York   50000\n",
       "1           2  Lisa Johnson   32  Female  Los Angeles   75000\n",
       "2           3    Mark Brown   45    Male      Chicago   90000"
      ]
     },
     "execution_count": 28,
     "metadata": {},
     "output_type": "execute_result"
    }
   ],
   "source": [
    "df = pd.read_excel('example.xlsx')\n",
    "df"
   ]
  },
  {
   "cell_type": "markdown",
   "id": "82c83790",
   "metadata": {},
   "source": [
    "16. Постройте круговую диаграмму для признака Rooms, иллюстрирующую количество квартир в процентах в зависимости от количества комнат. Сделайте сектор с наибольшим числом квартир выдвинутым."
   ]
  },
  {
   "cell_type": "code",
   "execution_count": 33,
   "id": "30f3b910",
   "metadata": {},
   "outputs": [
    {
     "data": {
      "text/plain": "<Figure size 640x480 with 1 Axes>",
      "image/png": "[encoded data removed]"
     },
     "metadata": {},
     "output_type": "display_data"
    }
   ],
   "source": [
    "import matplotlib.pyplot as plt\n",
    "\n",
    "# Загрузка данных\n",
    "data = pd.read_csv('data.csv', delimiter=',')\n",
    "\n",
    "# Подсчет количества квартир для каждого значения признака Rooms\n",
    "counts = data['Rooms'].value_counts()\n",
    "\n",
    "# Вычисление процентного соотношения\n",
    "percentages = counts / counts.sum() * 100\n",
    "\n",
    "fig, ax = plt.subplots()\n",
    "\n",
    "# Нахождение сектора с наибольшим числом квартир\n",
    "max_index = percentages.argmax()\n",
    "\n",
    "# Выдвижение сектора с наибольшим числом квартир\n",
    "explode = [0.1] * len(percentages)\n",
    "explode[max_index] = 0.2\n",
    "ax.pie(percentages, labels=percentages.index, autopct='%1.1f%%', startangle=90, explode=explode)\n",
    "\n",
    "plt.title('Количество квартир в зависимости от количества комнат')\n",
    "plt.show()"
   ]
  },
  {
   "cell_type": "markdown",
   "id": "1d6088aa",
   "metadata": {},
   "source": [
    "17. Постройте гистограмму по целевой переменной Price. Оцените визуально, по какой цене продаётся наибольшее количество квартир."
   ]
  },
  {
   "cell_type": "code",
   "execution_count": 42,
   "id": "4d32d896",
   "metadata": {},
   "outputs": [
    {
     "data": {
      "text/plain": "<Figure size 640x480 with 1 Axes>",
      "image/png": "[encoded data removed]"
     },
     "metadata": {},
     "output_type": "display_data"
    },
    {
     "name": "stdout",
     "output_type": "stream",
     "text": [
      "Мода цены на квартиры: 59174.78\n"
     ]
    }
   ],
   "source": [
    "# Построение гистограммы\n",
    "plt.hist(data['Price'], bins=1000)\n",
    "plt.xlabel('Цена')\n",
    "plt.ylabel('Количество квартир')\n",
    "plt.title('Гистограмма цен на квартиры')\n",
    "plt.show()\n",
    "\n",
    "# Нахождение моды\n",
    "mode_price = data['Price'].mode()[0]\n",
    "print(f'Мода цены на квартиры: {mode_price:.2f}')"
   ]
  },
  {
   "cell_type": "markdown",
   "id": "b27980cd",
   "metadata": {},
   "source": [
    "18. Постройте диаграммы рассеяния для признаков Rooms, Square, HouseFloor, HouseYear в зависимости от целевой переменной Price в одной области figure. Оцените визуально, есть ли среди них такие, на которых разброс точек близок к линейной функции."
   ]
  },
  {
   "cell_type": "code",
   "execution_count": 44,
   "id": "ef1c059f",
   "metadata": {},
   "outputs": [
    {
     "data": {
      "image/png": "[encoded data removed]",
      "text/plain": [
       "<Figure size 1000x1000 with 4 Axes>"
      ]
     },
     "metadata": {},
     "output_type": "display_data"
    }
   ],
   "source": [
    "fig2, axs = plt.subplots(2, 2, figsize=(10, 10))\n",
    "df = pd.read_csv('data.csv', delimiter=',')\n",
    "axs[0, 0].scatter(df['Rooms'], df['Price'])\n",
    "axs[0, 0].set_title('Rooms')\n",
    "\n",
    "axs[0, 1].scatter(df['Square'], df['Price'])\n",
    "axs[0, 1].set_title('Square')\n",
    "\n",
    "axs[1, 0].scatter(df['HouseFloor'], df['Price'])\n",
    "axs[1, 0].set_title('HouseFloor')\n",
    "\n",
    "axs[1, 1].scatter(df['HouseYear'], df['Price'])\n",
    "axs[1, 1].set_title('HouseYear')\n",
    "\n",
    "plt.show()"
   ]
  },
  {
   "cell_type": "markdown",
   "id": "5a1a4082",
   "metadata": {},
   "source": [
    "19. Постройте ядерную оценку плотности целевой переменной Price. Оцените визуально, напоминает ли полученный график нормальное распределение. Постройте двумерную ядерную оценку плотности для целевой переменной Price и признака HouseFloor, затем оцените визуально на каких этажах и по какой цене продаётся основная масса квартир."
   ]
  },
  {
   "cell_type": "code",
   "execution_count": 1,
   "id": "b7a599d2",
   "metadata": {},
   "outputs": [
    {
     "name": "stdout",
     "output_type": "stream",
     "text": [
      "Collecting seaborn\n",
      "  Downloading seaborn-0.12.2-py3-none-any.whl (293 kB)\n",
      "Requirement already satisfied: matplotlib!=3.6.1,>=3.1 in c:\\users\\213737\\pycharmprojects\\pythonproject\\venv\\lib\\site-packages (from seaborn) (3.7.0)\n",
      "Requirement already satisfied: pandas>=0.25 in c:\\users\\213737\\pycharmprojects\\pythonproject\\venv\\lib\\site-packages (from seaborn) (1.5.3)\n",
      "Requirement already satisfied: numpy!=1.24.0,>=1.17 in c:\\users\\213737\\pycharmprojects\\pythonproject\\venv\\lib\\site-packages (from seaborn) (1.24.2)\n",
      "Requirement already satisfied: contourpy>=1.0.1 in c:\\users\\213737\\pycharmprojects\\pythonproject\\venv\\lib\\site-packages (from matplotlib!=3.6.1,>=3.1->seaborn) (1.0.7)\n",
      "Requirement already satisfied: fonttools>=4.22.0 in c:\\users\\213737\\pycharmprojects\\pythonproject\\venv\\lib\\site-packages (from matplotlib!=3.6.1,>=3.1->seaborn) (4.38.0)\n",
      "Requirement already satisfied: pillow>=6.2.0 in c:\\users\\213737\\pycharmprojects\\pythonproject\\venv\\lib\\site-packages (from matplotlib!=3.6.1,>=3.1->seaborn) (9.4.0)\n",
      "Requirement already satisfied: cycler>=0.10 in c:\\users\\213737\\pycharmprojects\\pythonproject\\venv\\lib\\site-packages (from matplotlib!=3.6.1,>=3.1->seaborn) (0.11.0)\n",
      "Requirement already satisfied: python-dateutil>=2.7 in c:\\users\\213737\\pycharmprojects\\pythonproject\\venv\\lib\\site-packages (from matplotlib!=3.6.1,>=3.1->seaborn) (2.8.2)\n",
      "Requirement already satisfied: pyparsing>=2.3.1 in c:\\users\\213737\\pycharmprojects\\pythonproject\\venv\\lib\\site-packages (from matplotlib!=3.6.1,>=3.1->seaborn) (3.0.9)\n",
      "Requirement already satisfied: packaging>=20.0 in c:\\users\\213737\\pycharmprojects\\pythonproject\\venv\\lib\\site-packages (from matplotlib!=3.6.1,>=3.1->seaborn) (23.0)\n",
      "Requirement already satisfied: kiwisolver>=1.0.1 in c:\\users\\213737\\pycharmprojects\\pythonproject\\venv\\lib\\site-packages (from matplotlib!=3.6.1,>=3.1->seaborn) (1.4.4)\n",
      "Requirement already satisfied: pytz>=2020.1 in c:\\users\\213737\\pycharmprojects\\pythonproject\\venv\\lib\\site-packages (from pandas>=0.25->seaborn) (2022.7.1)\n",
      "Requirement already satisfied: six>=1.5 in c:\\users\\213737\\pycharmprojects\\pythonproject\\venv\\lib\\site-packages (from python-dateutil>=2.7->matplotlib!=3.6.1,>=3.1->seaborn) (1.16.0)\n",
      "Installing collected packages: seaborn\n",
      "Successfully installed seaborn-0.12.2\n"
     ]
    },
    {
     "name": "stderr",
     "output_type": "stream",
     "text": [
      "WARNING: You are using pip version 21.1.2; however, version 23.0 is available.\n",
      "You should consider upgrading via the 'C:\\Users\\213737\\PycharmProjects\\pythonProject\\venv\\Scripts\\python.exe -m pip install --upgrade pip' command.\n"
     ]
    }
   ],
   "source": [
    "!pip install seaborn"
   ]
  },
  {
   "cell_type": "code",
   "execution_count": 20,
   "id": "5be33aca",
   "metadata": {},
   "outputs": [],
   "source": [
    "import seaborn as sns"
   ]
  },
  {
   "cell_type": "code",
   "execution_count": 35,
   "id": "53437ad6",
   "metadata": {},
   "outputs": [
    {
     "data": {
      "text/plain": "<Figure size 640x480 with 1 Axes>",
      "image/png": "[encoded data removed]"
     },
     "metadata": {},
     "output_type": "display_data"
    }
   ],
   "source": [
    "sns.kdeplot(data=data, x=\"Price\")\n",
    "plt.title(\"График\")\n",
    "plt.show()\n",
    "\n"
   ]
  },
  {
   "cell_type": "code",
   "execution_count": 36,
   "id": "db77279a",
   "metadata": {},
   "outputs": [
    {
     "data": {
      "text/plain": "<Figure size 640x480 with 1 Axes>",
      "image/png": "[encoded data removed]"
     },
     "metadata": {},
     "output_type": "display_data"
    }
   ],
   "source": [
    "# Двумерная ядерная оценка плотности для целевой переменной Price и признака HouseFloor\n",
    "sns.kdeplot(data=data, x=\"HouseFloor\", y=\"Price\", fill=True)\n",
    "plt.title(\"Двумерный График\")\n",
    "plt.show()"
   ]
  },
  {
   "cell_type": "markdown",
   "id": "11c0b14b",
   "metadata": {},
   "source": [
    "20. Постройте ящиковую диаграмму признака Square. Оцените визуально имеются ли выбросы, и, если да, то начиная с какого размера площади значение признака можно считать выбросом."
   ]
  },
  {
   "cell_type": "code",
   "execution_count": 71,
   "id": "fbfe44ef",
   "metadata": {},
   "outputs": [
    {
     "data": {
      "image/png": "[encoded data removed]",
      "text/plain": [
       "<Figure size 640x480 with 1 Axes>"
      ]
     },
     "metadata": {},
     "output_type": "display_data"
    }
   ],
   "source": [
    "plt.boxplot(data['Square'], vert=False)\n",
    "plt.xlabel('Square')\n",
    "plt.show()"
   ]
  },
  {
   "cell_type": "markdown",
   "id": "df30f410",
   "metadata": {},
   "source": [
    "21. При помощи сетки графиков PairGrid визуализируйте попарные отношения признаков Rooms, Square, HouseFloor, HouseYear, Price следующим образом: на диагонали - гистограммы, под диагональю - ядерные оценки плотности, над диагональю - диаграммы рассеяния. По результатам визуализации сделайте выводы."
   ]
  },
  {
   "cell_type": "code",
   "execution_count": null,
   "id": "a3740e0e",
   "metadata": {},
   "outputs": [],
   "source": []
  },
  {
   "cell_type": "markdown",
   "id": "64340f4d",
   "metadata": {},
   "source": [
    "22. Постройте тепловую карту матрицы корреляции (df.corr()) признаков Rooms, Square, HouseFloor, HouseYear, Price. По ней определите, какие признаки являются зависимыми (у таких признаков коэффициент корреляции близок к единице)."
   ]
  },
  {
   "cell_type": "code",
   "execution_count": 45,
   "id": "484f20ab",
   "metadata": {},
   "outputs": [
    {
     "name": "stdout",
     "output_type": "stream",
     "text": [
      "Hello\n"
     ]
    },
    {
     "data": {
      "text/plain": "<Figure size 640x480 with 2 Axes>",
      "image/png": "[encoded data removed]"
     },
     "metadata": {},
     "output_type": "display_data"
    }
   ],
   "source": [
    "corr = data[['Rooms', 'Square', 'HouseFloor', 'HouseYear', 'Price']].corr()\n",
    "sns.heatmap(corr, annot=True, cmap='Blues')\n",
    "print('Hello')"
   ]
  }
 ],
 "metadata": {
  "kernelspec": {
   "display_name": "Python 3 (ipykernel)",
   "language": "python",
   "name": "python3"
  },
  "language_info": {
   "codemirror_mode": {
    "name": "ipython",
    "version": 3
   },
   "file_extension": ".py",
   "mimetype": "text/x-python",
   "name": "python",
   "nbconvert_exporter": "python",
   "pygments_lexer": "ipython3",
   "version": "3.10.9"
  }
 },
 "nbformat": 4,
 "nbformat_minor": 5
}
